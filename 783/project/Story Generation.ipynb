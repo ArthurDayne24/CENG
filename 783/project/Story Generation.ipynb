{
 "cells": [
  {
   "cell_type": "markdown",
   "metadata": {
    "deletable": true,
    "editable": true
   },
   "source": [
    "# Dataset Generation\n",
    "\n",
    "## We simply generate synthetic stories and associated q&a's for those stories"
   ]
  },
  {
   "cell_type": "code",
   "execution_count": 1,
   "metadata": {
    "collapsed": false,
    "deletable": true,
    "editable": true
   },
   "outputs": [],
   "source": [
    "%load_ext autoreload\n",
    "%autoreload 2"
   ]
  },
  {
   "cell_type": "code",
   "execution_count": 2,
   "metadata": {
    "collapsed": false,
    "deletable": true,
    "editable": true
   },
   "outputs": [],
   "source": [
    "from dataset.generator import *\n",
    "import pickle\n",
    "\n",
    "world = World()\n",
    "NSTORIES = 1000\n",
    "stories = []\n",
    "for _ in xrange(NSTORIES):\n",
    "    stories.append(world.genStory())\n",
    "\n",
    "f = open(\"stories.pck\", \"wb\")\n",
    "pickle.dump(stories, f)\n",
    "f.close()"
   ]
  },
  {
   "cell_type": "code",
   "execution_count": 3,
   "metadata": {
    "collapsed": false,
    "deletable": true,
    "editable": true
   },
   "outputs": [
    {
     "name": "stdout",
     "output_type": "stream",
     "text": [
      "[\"namik vazo 'yi park 'dan aldi .\", 'namik nerede ?,park', 'vazo nerede ?,park']\n"
     ]
    }
   ],
   "source": [
    "stories = pickle.load(open(\"stories.pck\", \"rb\"))\n",
    "print stories[0]"
   ]
  },
  {
   "cell_type": "code",
   "execution_count": null,
   "metadata": {
    "collapsed": true,
    "deletable": true,
    "editable": true
   },
   "outputs": [],
   "source": []
  }
 ],
 "metadata": {
  "kernelspec": {
   "display_name": "Python 2",
   "language": "python",
   "name": "python2"
  },
  "language_info": {
   "codemirror_mode": {
    "name": "ipython",
    "version": 2
   },
   "file_extension": ".py",
   "mimetype": "text/x-python",
   "name": "python",
   "nbconvert_exporter": "python",
   "pygments_lexer": "ipython2",
   "version": "2.7.13"
  }
 },
 "nbformat": 4,
 "nbformat_minor": 2
}
