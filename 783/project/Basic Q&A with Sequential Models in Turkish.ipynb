{
 "cells": [
  {
   "cell_type": "code",
   "execution_count": 1,
   "metadata": {
    "collapsed": false
   },
   "outputs": [],
   "source": [
    "# As usual, a bit of setup\n",
    "\n",
    "import time, os, json\n",
    "import numpy as np\n",
    "import matplotlib.pyplot as plt\n",
    "import pickle\n",
    "\n",
    "from gradient_check import eval_numerical_gradient, eval_numerical_gradient_array\n",
    "from layers import *\n",
    "from rnn import *\n",
    "from solver import *\n",
    "\n",
    "%matplotlib inline\n",
    "plt.rcParams['figure.figsize'] = (10.0, 8.0) # set default size of plots\n",
    "plt.rcParams['image.interpolation'] = 'nearest'\n",
    "plt.rcParams['image.cmap'] = 'gray'\n",
    "\n",
    "%load_ext autoreload\n",
    "%autoreload 2\n",
    "\n",
    "def rel_error(x, y):\n",
    "  \"\"\" returns relative error \"\"\"\n",
    "  return np.max(np.abs(x - y) / (np.maximum(1e-8, np.abs(x) + np.abs(y))))"
   ]
  },
  {
   "cell_type": "code",
   "execution_count": 40,
   "metadata": {
    "collapsed": false
   },
   "outputs": [
    {
     "name": "stdout",
     "output_type": "stream",
     "text": [
      "10000 examples\n",
      "29 supporting facts and questions at most\n",
      "5 words per sentence at most\n"
     ]
    }
   ],
   "source": [
    "raw = pickle.load(open(\"stories.pck\", \"rb\"))\n",
    "print len(raw), \"examples\"\n",
    "print max([len(x) for x in raw]), \"supporting facts and questions at most\"\n",
    "print max([len(y.split(' ')) for y in x for x in raw]), \"words per sentence at most\"\n",
    "\n",
    "_null, _start, _query, _end = \"<NULL>\", \"<Start>\", \"<Query>\", \"<End>\"\n",
    "\n",
    "words = [_null, _start, _query, _end] + [q for ex in raw for sent in ex for w in sent.split(' ') for q in w.split(',')]\n",
    "words = sorted(set(words))\n",
    "word_to_idx = {w:i for i,w in enumerate(words)}\n",
    "\n",
    "T = 64 # longest story, 64 words unfolding\n",
    "T2= 5\n",
    "\n",
    "data = []\n",
    "for ex in raw[:-1000]:\n",
    "    sLen = 0\n",
    "    while ex[sLen].find(',')==-1:\n",
    "        sLen+=1\n",
    "    supports = word_to_idx[_null] * np.ones(T, dtype=int)\n",
    "    queries = word_to_idx[_null] * np.ones((len(ex)-sLen, T2), dtype=int)\n",
    "    \n",
    "    pos=0\n",
    "    for idx, sent in enumerate(ex):\n",
    "        if idx<sLen:\n",
    "            sent = [word_to_idx[_start]] + [word_to_idx[x] for x in sent.split(' ')] \n",
    "            supports[pos:pos+len(sent)+1] = sent + [word_to_idx[_end]]\n",
    "            pos += len(sent)\n",
    "        else:\n",
    "            sent = sent.split(',')[0]\n",
    "            sent = [word_to_idx[_query]] + [word_to_idx[x] for x in sent.split(' ')]\n",
    "            sent = sent + [word_to_idx[_null]]*(T2-len(sent)-1) + [word_to_idx[_end]]#null pad the sentence\n",
    "            queries[idx-sLen, :] = sent\n",
    "    \n",
    "    answers = np.asarray([word_to_idx[x.split(',')[1]] for x in ex[sLen:]]).reshape(len(ex)-sLen, 1)\n",
    "    for i in xrange(queries.shape[0]):\n",
    "        data.append(np.hstack((supports, queries[i,:], answers[i,:])))\n",
    "\n",
    "data_train = np.asarray(data)\n",
    "data = []\n",
    "for ex in raw[-1000:]:\n",
    "    sLen = 0\n",
    "    while ex[sLen].find(',')==-1:\n",
    "        sLen+=1\n",
    "    supports = word_to_idx[_null] * np.ones(T, dtype=int)\n",
    "    queries = word_to_idx[_null] * np.ones((len(ex)-sLen, T2), dtype=int)\n",
    "    \n",
    "    pos=0\n",
    "    for idx, sent in enumerate(ex):\n",
    "        if idx<sLen:\n",
    "            sent = [word_to_idx[_start]] + [word_to_idx[x] for x in sent.split(' ')] \n",
    "            supports[pos:pos+len(sent)+1] = sent + [word_to_idx[_end]]\n",
    "            pos += len(sent)\n",
    "        else:\n",
    "            sent = sent.split(',')[0]\n",
    "            sent = [word_to_idx[_query]] + [word_to_idx[x] for x in sent.split(' ')]\n",
    "            sent = sent + [word_to_idx[_null]]*(T2-len(sent)-1) + [word_to_idx[_end]]#null pad the sentence\n",
    "            queries[idx-sLen, :] = sent\n",
    "    \n",
    "    answers = np.asarray([word_to_idx[x.split(',')[1]] for x in ex[sLen:]]).reshape(len(ex)-sLen, 1)\n",
    "    for i in xrange(queries.shape[0]):\n",
    "        data.append(np.hstack((supports, queries[i,:], answers[i,:])))\n",
    "\n",
    "data_test = np.asarray(data)"
   ]
  },
  {
   "cell_type": "code",
   "execution_count": 44,
   "metadata": {
    "collapsed": false
   },
   "outputs": [
    {
     "name": "stdout",
     "output_type": "stream",
     "text": [
      "(Iteration 1 / 400) loss: 5.128037\n",
      "(Iteration 11 / 400) loss: 2.836410\n",
      "(Iteration 21 / 400) loss: 2.644524\n",
      "(Iteration 31 / 400) loss: 2.422662\n",
      "(Iteration 41 / 400) loss: 2.357525\n",
      "(Iteration 51 / 400) loss: 2.232610\n",
      "(Iteration 61 / 400) loss: 1.816278\n",
      "(Iteration 71 / 400) loss: 1.775753\n",
      "(Iteration 81 / 400) loss: 1.434769\n",
      "(Iteration 91 / 400) loss: 1.246429\n",
      "(Iteration 101 / 400) loss: 1.114377\n",
      "(Iteration 111 / 400) loss: 1.094489\n",
      "(Iteration 121 / 400) loss: 0.652451\n",
      "(Iteration 131 / 400) loss: 0.439813\n",
      "(Iteration 141 / 400) loss: 0.277109\n",
      "(Iteration 151 / 400) loss: 0.250740\n",
      "(Iteration 161 / 400) loss: 0.161047\n",
      "(Iteration 171 / 400) loss: 0.179991\n",
      "(Iteration 181 / 400) loss: 0.077546\n",
      "(Iteration 191 / 400) loss: 0.076629\n",
      "(Iteration 201 / 400) loss: 0.065813\n",
      "(Iteration 211 / 400) loss: 0.064291\n",
      "(Iteration 221 / 400) loss: 0.039406\n",
      "(Iteration 231 / 400) loss: 0.032802\n",
      "(Iteration 241 / 400) loss: 0.041589\n",
      "(Iteration 251 / 400) loss: 0.038557\n",
      "(Iteration 261 / 400) loss: 0.037531\n",
      "(Iteration 271 / 400) loss: 0.028358\n",
      "(Iteration 281 / 400) loss: 0.024974\n",
      "(Iteration 291 / 400) loss: 0.026412\n",
      "(Iteration 301 / 400) loss: 0.026859\n",
      "(Iteration 311 / 400) loss: 0.026635\n",
      "(Iteration 321 / 400) loss: 0.021197\n",
      "(Iteration 331 / 400) loss: 0.018433\n",
      "(Iteration 341 / 400) loss: 0.019237\n",
      "(Iteration 351 / 400) loss: 0.019457\n",
      "(Iteration 361 / 400) loss: 0.019341\n",
      "(Iteration 371 / 400) loss: 0.017963\n",
      "(Iteration 381 / 400) loss: 0.019823\n",
      "(Iteration 391 / 400) loss: 0.015255\n"
     ]
    },
    {
     "data": {
      "image/png": "[encoded data removed]",
      "text/plain": [
       "<matplotlib.figure.Figure at 0x7fdb10646f10>"
      ]
     },
     "metadata": {},
     "output_type": "display_data"
    }
   ],
   "source": [
    "model = SeqNN(word_to_idx, cell_type='rnn', hidden_dim=256, wordvec_dim=512)\n",
    "solver = SeqNNSolver(model, data_train[:50],\n",
    "           update_rule='adam',\n",
    "           num_epochs=200,\n",
    "           batch_size=25,\n",
    "           optim_config={\n",
    "             'learning_rate': 1e-3,\n",
    "           },\n",
    "           lr_decay=.995,\n",
    "           verbose=True, print_every=10,\n",
    "         )\n",
    "solver.train()\n",
    "\n",
    "# Plot the training losses\n",
    "plt.plot(solver.loss_history)\n",
    "plt.xlabel('Iteration')\n",
    "plt.ylabel('Loss')\n",
    "plt.title('Training loss history')\n",
    "plt.show()"
   ]
  },
  {
   "cell_type": "code",
   "execution_count": 46,
   "metadata": {
    "collapsed": false
   },
   "outputs": [
    {
     "name": "stdout",
     "output_type": "stream",
     "text": [
      "Train: 1.0\n",
      "\n",
      " cengiz eva gitti . \n",
      " veli semsiyeyi dolapdan aldi . <End> <NULL> <NULL> <NULL> <NULL> <NULL> <NULL> <NULL> <NULL> <NULL> <NULL> <NULL> <NULL> <NULL> <NULL> <NULL> <NULL> <NULL> <NULL> <NULL> <NULL> <NULL> <NULL> <NULL> <NULL> <NULL> <NULL> <NULL> <NULL> <NULL> <NULL> <NULL> <NULL> <NULL> <NULL> <NULL> <NULL> <NULL> <NULL> <NULL> <NULL> <NULL> <NULL> <NULL> <NULL> <NULL> <NULL> <NULL> <NULL> <NULL> <NULL> <NULL> <NULL>\n",
      "<Query> cengiz nerede ? <End> ev\n",
      "<Query> semsiye nerede ? <End> dolap\n",
      "<Query> veli nerede ? <End> dolap\n",
      "\n",
      "Other answers:\n",
      "ev ev\n",
      "dolap dolap\n",
      "dolap dolap\n",
      "amfi amfi\n",
      "amfi amfi\n",
      "sandalye sandalye\n",
      "mutfak mutfak\n",
      "sandalye sandalye\n",
      "labaratuvar labaratuvar\n",
      "bahce bahce\n",
      "bahce bahce\n",
      "mutfak mutfak\n",
      "kamyon kamyon\n",
      "labaratuvar labaratuvar\n",
      "mutfak mutfak\n",
      "bahce bahce\n",
      "otobus otobus\n",
      "amfi amfi\n",
      "amfi amfi\n",
      "bahce bahce\n",
      "bahce bahce\n",
      "dolap dolap\n",
      "dolap dolap\n",
      "servis servis\n",
      "bolum bolum\n",
      "servis servis\n",
      "otobus otobus\n",
      "hastane hastane\n",
      "bolum bolum\n",
      "hastane hastane\n",
      "tuvalet tuvalet\n",
      "masa masa\n",
      "tuvalet tuvalet\n",
      "sandalye sandalye\n",
      "banyo banyo\n",
      "banyo banyo\n",
      "kamyon kamyon\n",
      "kamyon kamyon\n",
      "sandalye sandalye\n",
      "banyo banyo\n",
      "sira sira\n",
      "banyo banyo\n",
      "sandalye sandalye\n",
      "oda oda\n",
      "dolap dolap\n",
      "bolum bolum\n",
      "labaratuvar labaratuvar\n",
      "labaratuvar labaratuvar\n",
      "banyo banyo\n",
      "hastane hastane\n"
     ]
    }
   ],
   "source": [
    "minibatch = data_train[:50]\n",
    "print \"Train:\",\n",
    "answ=model.loss(minibatch, sample=True)\n",
    "print (answ==minibatch[:,-1]).mean()\n",
    "\n",
    "print \"\\n\".join(\" \".join([words[x] for x in data_train[0,:-T2-1]]).split(_start))\n",
    "i=0\n",
    "while np.all(data_train[0,:-T2-1]==data_train[i,:-T2-1]):\n",
    "  print \" \".join([words[x] for x in data_train[i,-T2-1:]])\n",
    "  i=i+1\n",
    "\n",
    "print\n",
    "print \"Other answers:\"\n",
    "print \"\\n\".join([words[x]+\" \"+words[y] for x,y in zip(model.loss(minibatch, sample=True), minibatch[:,-1])])"
   ]
  },
  {
   "cell_type": "code",
   "execution_count": 47,
   "metadata": {
    "collapsed": false
   },
   "outputs": [
    {
     "name": "stdout",
     "output_type": "stream",
     "text": [
      "(Iteration 1 / 26880) loss: 5.070920\n",
      "(Iteration 11 / 26880) loss: 4.941373\n",
      "(Iteration 21 / 26880) loss: 5.038448\n",
      "(Iteration 31 / 26880) loss: 4.160856\n",
      "(Iteration 41 / 26880) loss: 3.991765\n",
      "(Iteration 51 / 26880) loss: 3.645830\n",
      "(Iteration 61 / 26880) loss: 3.601724\n",
      "(Iteration 71 / 26880) loss: 3.611482\n",
      "(Iteration 81 / 26880) loss: 3.332152\n",
      "(Iteration 91 / 26880) loss: 3.504351\n",
      "(Iteration 101 / 26880) loss: 3.337870\n",
      "(Iteration 111 / 26880) loss: 3.595950\n",
      "(Iteration 121 / 26880) loss: 3.658091\n",
      "(Iteration 131 / 26880) loss: 3.600867\n",
      "(Iteration 141 / 26880) loss: 3.407123\n",
      "(Iteration 151 / 26880) loss: 3.512154\n",
      "(Iteration 161 / 26880) loss: 3.639323\n",
      "(Iteration 171 / 26880) loss: 3.321106\n",
      "(Iteration 181 / 26880) loss: 3.486593\n",
      "(Iteration 191 / 26880) loss: 3.501521\n",
      "(Iteration 201 / 26880) loss: 3.427790\n",
      "(Iteration 211 / 26880) loss: 3.744384\n",
      "(Iteration 221 / 26880) loss: 3.777005\n",
      "(Iteration 231 / 26880) loss: 3.288039\n",
      "(Iteration 241 / 26880) loss: 3.488252\n",
      "(Iteration 251 / 26880) loss: 3.499194\n",
      "(Iteration 261 / 26880) loss: 3.778559\n",
      "(Iteration 271 / 26880) loss: 3.288214\n",
      "(Iteration 281 / 26880) loss: 3.505571\n",
      "(Iteration 291 / 26880) loss: 3.610406\n",
      "(Iteration 301 / 26880) loss: 3.366276\n",
      "(Iteration 311 / 26880) loss: 3.682298\n",
      "(Iteration 321 / 26880) loss: 3.373576\n",
      "(Iteration 331 / 26880) loss: 3.290117\n"
     ]
    },
    {
     "ename": "KeyboardInterrupt",
     "evalue": "",
     "output_type": "error",
     "traceback": [
      "\u001b[0;31m---------------------------------------------------------------------------\u001b[0m",
      "\u001b[0;31mKeyboardInterrupt\u001b[0m                         Traceback (most recent call last)",
      "\u001b[0;32m<ipython-input-47-36e59db95d1d>\u001b[0m in \u001b[0;36m<module>\u001b[0;34m()\u001b[0m\n\u001b[1;32m     10\u001b[0m            \u001b[0mverbose\u001b[0m\u001b[0;34m=\u001b[0m\u001b[0mTrue\u001b[0m\u001b[0;34m,\u001b[0m \u001b[0mprint_every\u001b[0m\u001b[0;34m=\u001b[0m\u001b[0;36m10\u001b[0m\u001b[0;34m,\u001b[0m\u001b[0;34m\u001b[0m\u001b[0m\n\u001b[1;32m     11\u001b[0m          )\n\u001b[0;32m---> 12\u001b[0;31m \u001b[0msolver\u001b[0m\u001b[0;34m.\u001b[0m\u001b[0mtrain\u001b[0m\u001b[0;34m(\u001b[0m\u001b[0;34m)\u001b[0m\u001b[0;34m\u001b[0m\u001b[0m\n\u001b[0m\u001b[1;32m     13\u001b[0m \u001b[0;34m\u001b[0m\u001b[0m\n\u001b[1;32m     14\u001b[0m \u001b[0;31m# Plot the training losses\u001b[0m\u001b[0;34m\u001b[0m\u001b[0;34m\u001b[0m\u001b[0m\n",
      "\u001b[0;32m/home/kadircet/repos/ceng/783/project/solver.pyc\u001b[0m in \u001b[0;36mtrain\u001b[0;34m(self)\u001b[0m\n\u001b[1;32m    145\u001b[0m \u001b[0;34m\u001b[0m\u001b[0m\n\u001b[1;32m    146\u001b[0m     \u001b[0;32mfor\u001b[0m \u001b[0mt\u001b[0m \u001b[0;32min\u001b[0m \u001b[0mxrange\u001b[0m\u001b[0;34m(\u001b[0m\u001b[0mnum_iterations\u001b[0m\u001b[0;34m)\u001b[0m\u001b[0;34m:\u001b[0m\u001b[0;34m\u001b[0m\u001b[0m\n\u001b[0;32m--> 147\u001b[0;31m       \u001b[0mself\u001b[0m\u001b[0;34m.\u001b[0m\u001b[0m_step\u001b[0m\u001b[0;34m(\u001b[0m\u001b[0;34m)\u001b[0m\u001b[0;34m\u001b[0m\u001b[0m\n\u001b[0m\u001b[1;32m    148\u001b[0m \u001b[0;34m\u001b[0m\u001b[0m\n\u001b[1;32m    149\u001b[0m       \u001b[0;31m# Maybe print training loss\u001b[0m\u001b[0;34m\u001b[0m\u001b[0;34m\u001b[0m\u001b[0m\n",
      "\u001b[0;32m/home/kadircet/repos/ceng/783/project/solver.pyc\u001b[0m in \u001b[0;36m_step\u001b[0;34m(self)\u001b[0m\n\u001b[1;32m     53\u001b[0m     \u001b[0mminibatch\u001b[0m \u001b[0;34m=\u001b[0m \u001b[0mself\u001b[0m\u001b[0;34m.\u001b[0m\u001b[0mdata\u001b[0m\u001b[0;34m[\u001b[0m\u001b[0midx\u001b[0m\u001b[0;34m,\u001b[0m\u001b[0;34m:\u001b[0m\u001b[0;34m]\u001b[0m\u001b[0;34m\u001b[0m\u001b[0m\n\u001b[1;32m     54\u001b[0m     \u001b[0;31m# Compute loss and gradient\u001b[0m\u001b[0;34m\u001b[0m\u001b[0;34m\u001b[0m\u001b[0m\n\u001b[0;32m---> 55\u001b[0;31m     \u001b[0mloss\u001b[0m\u001b[0;34m,\u001b[0m \u001b[0mgrads\u001b[0m \u001b[0;34m=\u001b[0m \u001b[0mself\u001b[0m\u001b[0;34m.\u001b[0m\u001b[0mmodel\u001b[0m\u001b[0;34m.\u001b[0m\u001b[0mloss\u001b[0m\u001b[0;34m(\u001b[0m\u001b[0mminibatch\u001b[0m\u001b[0;34m)\u001b[0m\u001b[0;34m\u001b[0m\u001b[0m\n\u001b[0m\u001b[1;32m     56\u001b[0m     \u001b[0mself\u001b[0m\u001b[0;34m.\u001b[0m\u001b[0mloss_history\u001b[0m\u001b[0;34m.\u001b[0m\u001b[0mappend\u001b[0m\u001b[0;34m(\u001b[0m\u001b[0mloss\u001b[0m\u001b[0;34m)\u001b[0m\u001b[0;31m#/self.batch_size)\u001b[0m\u001b[0;34m\u001b[0m\u001b[0m\n\u001b[1;32m     57\u001b[0m \u001b[0;34m\u001b[0m\u001b[0m\n",
      "\u001b[0;32m/home/kadircet/repos/ceng/783/project/rnn.py\u001b[0m in \u001b[0;36mloss\u001b[0;34m(self, data, sample, T, T2)\u001b[0m\n\u001b[1;32m    107\u001b[0m     \u001b[0;31m#dh0 = np.tile(dh0.mean(axis=0), (X.shape[0], 1))\u001b[0m\u001b[0;34m\u001b[0m\u001b[0;34m\u001b[0m\u001b[0m\n\u001b[1;32m    108\u001b[0m \u001b[0;34m\u001b[0m\u001b[0m\n\u001b[0;32m--> 109\u001b[0;31m     \u001b[0mdX_in\u001b[0m\u001b[0;34m,\u001b[0m \u001b[0mdh0\u001b[0m\u001b[0;34m,\u001b[0m \u001b[0m_Wx\u001b[0m\u001b[0;34m,\u001b[0m \u001b[0m_Wh\u001b[0m\u001b[0;34m,\u001b[0m \u001b[0m_b\u001b[0m \u001b[0;34m=\u001b[0m \u001b[0mfunc\u001b[0m\u001b[0;34m(\u001b[0m\u001b[0mdh0\u001b[0m\u001b[0;34m,\u001b[0m \u001b[0mcache_fwd\u001b[0m\u001b[0;34m,\u001b[0m \u001b[0mT\u001b[0m\u001b[0;34m=\u001b[0m\u001b[0mX_in\u001b[0m\u001b[0;34m.\u001b[0m\u001b[0mshape\u001b[0m\u001b[0;34m[\u001b[0m\u001b[0;36m1\u001b[0m\u001b[0;34m]\u001b[0m\u001b[0;34m)\u001b[0m\u001b[0;34m\u001b[0m\u001b[0m\n\u001b[0m\u001b[1;32m    110\u001b[0m     \u001b[0mgrads\u001b[0m\u001b[0;34m[\u001b[0m\u001b[0;34m'Wx1'\u001b[0m\u001b[0;34m]\u001b[0m \u001b[0;34m=\u001b[0m \u001b[0m_Wx\u001b[0m\u001b[0;34m\u001b[0m\u001b[0m\n\u001b[1;32m    111\u001b[0m     \u001b[0mgrads\u001b[0m\u001b[0;34m[\u001b[0m\u001b[0;34m'Wh1'\u001b[0m\u001b[0;34m]\u001b[0m \u001b[0;34m=\u001b[0m \u001b[0m_Wh\u001b[0m\u001b[0;34m\u001b[0m\u001b[0m\n",
      "\u001b[0;32m/home/kadircet/repos/ceng/783/project/layers.py\u001b[0m in \u001b[0;36mrnn_backward\u001b[0;34m(dh, cache, T)\u001b[0m\n\u001b[1;32m    444\u001b[0m   \u001b[0;32mfor\u001b[0m \u001b[0mi\u001b[0m \u001b[0;32min\u001b[0m \u001b[0mxrange\u001b[0m\u001b[0;34m(\u001b[0m\u001b[0mT\u001b[0m\u001b[0;34m)\u001b[0m\u001b[0;34m:\u001b[0m\u001b[0;34m\u001b[0m\u001b[0m\n\u001b[1;32m    445\u001b[0m       \u001b[0mt\u001b[0m \u001b[0;34m=\u001b[0m \u001b[0mT\u001b[0m\u001b[0;34m-\u001b[0m\u001b[0;36m1\u001b[0m\u001b[0;34m-\u001b[0m\u001b[0mi\u001b[0m\u001b[0;34m\u001b[0m\u001b[0m\n\u001b[0;32m--> 446\u001b[0;31m       \u001b[0mdx\u001b[0m\u001b[0;34m[\u001b[0m\u001b[0;34m:\u001b[0m\u001b[0;34m,\u001b[0m\u001b[0mt\u001b[0m\u001b[0;34m,\u001b[0m\u001b[0;34m:\u001b[0m\u001b[0;34m]\u001b[0m\u001b[0;34m,\u001b[0m \u001b[0mdh0\u001b[0m\u001b[0;34m,\u001b[0m \u001b[0m_dWx\u001b[0m\u001b[0;34m,\u001b[0m \u001b[0m_dWh\u001b[0m\u001b[0;34m,\u001b[0m \u001b[0m_db\u001b[0m \u001b[0;34m=\u001b[0m \u001b[0mrnn_step_backward\u001b[0m\u001b[0;34m(\u001b[0m\u001b[0mdh0\u001b[0m\u001b[0;34m,\u001b[0m \u001b[0mcache\u001b[0m\u001b[0;34m[\u001b[0m\u001b[0mt\u001b[0m\u001b[0;34m]\u001b[0m\u001b[0;34m)\u001b[0m\u001b[0;34m\u001b[0m\u001b[0m\n\u001b[0m\u001b[1;32m    447\u001b[0m       \u001b[0mdWx\u001b[0m \u001b[0;34m+=\u001b[0m \u001b[0m_dWx\u001b[0m\u001b[0;34m\u001b[0m\u001b[0m\n\u001b[1;32m    448\u001b[0m       \u001b[0mdWh\u001b[0m \u001b[0;34m+=\u001b[0m \u001b[0m_dWh\u001b[0m\u001b[0;34m\u001b[0m\u001b[0m\n",
      "\u001b[0;32m/home/kadircet/repos/ceng/783/project/layers.py\u001b[0m in \u001b[0;36mrnn_step_backward\u001b[0;34m(dnext_h, cache)\u001b[0m\n\u001b[1;32m    374\u001b[0m   \u001b[0mdx\u001b[0m \u001b[0;34m=\u001b[0m \u001b[0mdnext_h\u001b[0m\u001b[0;34m.\u001b[0m\u001b[0mdot\u001b[0m\u001b[0;34m(\u001b[0m\u001b[0mWx\u001b[0m\u001b[0;34m.\u001b[0m\u001b[0mT\u001b[0m\u001b[0;34m)\u001b[0m\u001b[0;34m\u001b[0m\u001b[0m\n\u001b[1;32m    375\u001b[0m   \u001b[0mdprev_h\u001b[0m \u001b[0;34m=\u001b[0m \u001b[0mdnext_h\u001b[0m\u001b[0;34m.\u001b[0m\u001b[0mdot\u001b[0m\u001b[0;34m(\u001b[0m\u001b[0mWh\u001b[0m\u001b[0;34m.\u001b[0m\u001b[0mT\u001b[0m\u001b[0;34m)\u001b[0m\u001b[0;34m\u001b[0m\u001b[0m\n\u001b[0;32m--> 376\u001b[0;31m   \u001b[0mdWx\u001b[0m \u001b[0;34m=\u001b[0m \u001b[0mx\u001b[0m\u001b[0;34m.\u001b[0m\u001b[0mT\u001b[0m\u001b[0;34m.\u001b[0m\u001b[0mdot\u001b[0m\u001b[0;34m(\u001b[0m\u001b[0mdnext_h\u001b[0m\u001b[0;34m)\u001b[0m\u001b[0;34m\u001b[0m\u001b[0m\n\u001b[0m\u001b[1;32m    377\u001b[0m   \u001b[0mdWh\u001b[0m \u001b[0;34m=\u001b[0m \u001b[0mprev_h\u001b[0m\u001b[0;34m.\u001b[0m\u001b[0mT\u001b[0m\u001b[0;34m.\u001b[0m\u001b[0mdot\u001b[0m\u001b[0;34m(\u001b[0m\u001b[0mdnext_h\u001b[0m\u001b[0;34m)\u001b[0m\u001b[0;34m\u001b[0m\u001b[0m\n\u001b[1;32m    378\u001b[0m   \u001b[0mdb\u001b[0m \u001b[0;34m=\u001b[0m \u001b[0mdnext_h\u001b[0m\u001b[0;34m.\u001b[0m\u001b[0msum\u001b[0m\u001b[0;34m(\u001b[0m\u001b[0maxis\u001b[0m\u001b[0;34m=\u001b[0m\u001b[0;36m0\u001b[0m\u001b[0;34m)\u001b[0m\u001b[0;34m\u001b[0m\u001b[0m\n",
      "\u001b[0;31mKeyboardInterrupt\u001b[0m: "
     ]
    }
   ],
   "source": [
    "model = SeqNN(word_to_idx, cell_type='rnn', hidden_dim=512, wordvec_dim=512)\n",
    "solver = SeqNNSolver(model, data_train,\n",
    "           update_rule='adam',\n",
    "           num_epochs=10,\n",
    "           batch_size=25,\n",
    "           optim_config={\n",
    "             'learning_rate': 1e-3,\n",
    "           },\n",
    "           lr_decay=.995,\n",
    "           verbose=True, print_every=10,\n",
    "         )\n",
    "solver.train()\n",
    "\n",
    "# Plot the training losses\n",
    "plt.plot(solver.loss_history)\n",
    "plt.xlabel('Iteration')\n",
    "plt.ylabel('Loss')\n",
    "plt.title('Training loss history')\n",
    "plt.show()"
   ]
  },
  {
   "cell_type": "code",
   "execution_count": null,
   "metadata": {
    "collapsed": false
   },
   "outputs": [],
   "source": [
    "print \"Train:\",\n",
    "answ=model.loss(data_train[:1000,:], sample=True)\n",
    "print (answ==data_train[:1000,-1]).mean()\n",
    "minibatch = data_train[:10]\n",
    "print \"\\n\".join([words[x]+\" \"+words[y] for x,y in zip(model.loss(minibatch, sample=True), minibatch[:,-1])])\n",
    "\n",
    "print\n",
    "print \"Test:\",\n",
    "answ=model.loss(data_test, sample=True)\n",
    "print (answ==data_test[:,-1]).mean()\n",
    "minibatch = data_test[:10]\n",
    "print \"\\n\".join([words[x]+\" \"+words[y] for x,y in zip(model.loss(minibatch, sample=True), minibatch[:,-1])])"
   ]
  },
  {
   "cell_type": "code",
   "execution_count": null,
   "metadata": {
    "collapsed": false
   },
   "outputs": [],
   "source": [
    "model = SeqNN(word_to_idx, cell_type='rnn', hidden_dim=512, wordvec_dim=256)\n",
    "solver = SeqNNSolver(model, data_train[:50],\n",
    "           update_rule='adam',\n",
    "           num_epochs=100,\n",
    "           batch_size=25,\n",
    "           optim_config={\n",
    "             'learning_rate': 5e-3,\n",
    "           },\n",
    "           lr_decay=.995,\n",
    "           verbose=True, print_every=10,\n",
    "         )\n",
    "solver.train()\n",
    "\n",
    "# Plot the training losses\n",
    "plt.plot(solver.loss_history)\n",
    "plt.xlabel('Iteration')\n",
    "plt.ylabel('Loss')\n",
    "plt.title('Training loss history')\n",
    "plt.show()"
   ]
  },
  {
   "cell_type": "code",
   "execution_count": null,
   "metadata": {
    "collapsed": false
   },
   "outputs": [],
   "source": [
    "idx = np.random.choice(data_train.shape[0], 1000)\n",
    "minibatch = data_train[:50,:]\n",
    "print \"Train:\",\n",
    "answ=model.loss(minibatch, sample=True)\n",
    "print (answ==minibatch[:,-1]).mean()\n",
    "print \"\\n\".join([words[x]+\" \"+words[y] for x,y in zip(model.loss(minibatch[:50,:], sample=True), minibatch[:50,-1])])\n",
    "\n",
    "print\n",
    "minibatch = data_test\n",
    "print \"Test:\",\n",
    "answ=model.loss(minibatch, sample=True)\n",
    "print (answ==minibatch[:,-1]).mean()\n",
    "print \"\\n\".join([words[x]+\" \"+words[y] for x,y in zip(model.loss(minibatch[:50,:], sample=True), minibatch[:50,-1])])"
   ]
  }
 ],
 "metadata": {
  "kernelspec": {
   "display_name": "Python 2",
   "language": "python",
   "name": "python2"
  },
  "language_info": {
   "codemirror_mode": {
    "name": "ipython",
    "version": 2
   },
   "file_extension": ".py",
   "mimetype": "text/x-python",
   "name": "python",
   "nbconvert_exporter": "python",
   "pygments_lexer": "ipython2",
   "version": "2.7.13"
  }
 },
 "nbformat": 4,
 "nbformat_minor": 2
}
