{
 "cells": [
  {
   "cell_type": "markdown",
   "metadata": {
    "deletable": true,
    "editable": true
   },
   "source": [
    "# Neural Network for Regression (predict next character in a word) exercise\n",
    "\n",
    "*Complete and hand in this completed worksheet (including its outputs and any supporting code outside of the worksheet) with your assignment submission. For more details see the [HW page](http://kovan.ceng.metu.edu.tr/~sinan/DL/index.html) on the course website.*\n",
    "\n",
    "Having gained some experience with neural networks, let us train a network that predicts the next character given a set of characters in a text.\n",
    "\n",
    "All of your work for this exercise will be done in this notebook."
   ]
  },
  {
   "cell_type": "code",
   "execution_count": 1,
   "metadata": {
    "collapsed": false,
    "deletable": true,
    "editable": true
   },
   "outputs": [],
   "source": [
    "import random\n",
    "import numpy as np\n",
    "from metu.data_utils import load_nextchar_dataset, plain_text_file_to_dataset\n",
    "import matplotlib.pyplot as plt\n",
    "%matplotlib inline\n",
    "plt.rcParams['figure.figsize'] = (10.0, 8.0) # set default size of plots\n",
    "plt.rcParams['image.interpolation'] = 'nearest'\n",
    "plt.rcParams['image.cmap'] = 'gray'\n",
    "\n",
    "# for auto-reloading extenrnal modules\n",
    "# see http://stackoverflow.com/questions/1907993/autoreload-of-modules-in-ipython\n",
    "%load_ext autoreload\n",
    "%autoreload 2\n",
    "\n",
    "def rel_error(x, y):\n",
    "  \"\"\" returns relative error \"\"\"\n",
    "  return np.max(np.abs(x - y) / (np.maximum(1e-8, np.abs(x) + np.abs(y))))"
   ]
  },
  {
   "cell_type": "code",
   "execution_count": 2,
   "metadata": {
    "collapsed": false,
    "deletable": true,
    "editable": true
   },
   "outputs": [],
   "source": [
    "# Create a small net and some toy data to check your implementations.\n",
    "# Note that we set the random seed for repeatable experiments.\n",
    "from cs231n.classifiers.neural_net_for_regression import TwoLayerNet\n",
    "\n",
    "input_size = 4\n",
    "hidden_size = 10\n",
    "num_classes = 3\n",
    "num_inputs = 5\n",
    "\n",
    "def init_toy_model():\n",
    "  np.random.seed(0)\n",
    "  return TwoLayerNet(input_size, hidden_size, num_classes, std=1e-1)\n",
    "\n",
    "def init_toy_data():\n",
    "  np.random.seed(1)\n",
    "  X = 10 * np.random.randn(num_inputs, input_size)\n",
    "  y = np.array([[0, 1, 2], [1, 2, 3], [2, 3, 4], [2, 1, 4], [2, 1, 4]])\n",
    "  return X, y\n",
    "\n",
    "net = init_toy_model()\n",
    "X, y = init_toy_data()"
   ]
  },
  {
   "cell_type": "markdown",
   "metadata": {
    "deletable": true,
    "editable": true
   },
   "source": [
    "# Forward pass: compute scores\n",
    "Open the file `cs231n/classifiers/neural_net_for_regression.py` and look at the method `TwoLayerNet.loss`. This function is very similar to the loss functions you have written for the previous exercises: It takes the data and weights and computes the *regression* scores, the squared error loss, and the gradients on the parameters. \n",
    "\n",
    "To be more specific, you will implement the following loss function:\n",
    "\n",
    "$$\\frac{1}{2}\\sum_i (o_i - y_i)^2 + \\frac{1}{2}\\lambda\\sum_j w_j^2,$$\n",
    "\n",
    "where $i$ runs through the samples in the batch; $o_i$ is the prediction of the network for the $i^{th}$ sample, and $y_i$ is the correct character; $\\lambda$ is the weight of the regularization term.\n",
    "\n",
    "The first layer uses ReLU as the activation function. The output layer does not use any activation functions.\n",
    "\n",
    "Implement the first part of the forward pass which uses the weights and biases to compute the scores for all inputs."
   ]
  },
  {
   "cell_type": "code",
   "execution_count": 3,
   "metadata": {
    "collapsed": false,
    "deletable": true,
    "editable": true
   },
   "outputs": [
    {
     "name": "stdout",
     "output_type": "stream",
     "text": [
      "Your scores:\n",
      "[[-0.81233741 -1.27654624 -0.70335995]\n",
      " [-0.17129677 -1.18803311 -0.47310444]\n",
      " [-0.51590475 -1.01354314 -0.8504215 ]\n",
      " [-0.15419291 -0.48629638 -0.52901952]\n",
      " [-0.00618733 -0.12435261 -0.15226949]]\n",
      "\n",
      "correct scores:\n",
      "[[-0.81233741 -1.27654624 -0.70335995]\n",
      " [-0.17129677 -1.18803311 -0.47310444]\n",
      " [-0.51590475 -1.01354314 -0.8504215 ]\n",
      " [-0.15419291 -0.48629638 -0.52901952]\n",
      " [-0.00618733 -0.12435261 -0.15226949]]\n",
      "\n",
      "Difference between your scores and correct scores:\n",
      "3.68027209324e-08\n"
     ]
    }
   ],
   "source": [
    "scores = net.loss(X)\n",
    "print 'Your scores:'\n",
    "print scores\n",
    "print\n",
    "print 'correct scores:'\n",
    "correct_scores = np.asarray([\n",
    "  [-0.81233741, -1.27654624, -0.70335995],\n",
    "  [-0.17129677, -1.18803311, -0.47310444],\n",
    "  [-0.51590475, -1.01354314, -0.8504215 ],\n",
    "  [-0.15419291, -0.48629638, -0.52901952],\n",
    "  [-0.00618733, -0.12435261, -0.15226949]])\n",
    "print correct_scores\n",
    "print\n",
    "\n",
    "# The difference should be very small. We get < 1e-7\n",
    "print 'Difference between your scores and correct scores:'\n",
    "print np.sum(np.abs(scores - correct_scores))"
   ]
  },
  {
   "cell_type": "markdown",
   "metadata": {
    "deletable": true,
    "editable": true
   },
   "source": [
    "# Forward pass: compute loss\n",
    "In the same function, implement the second part that computes the data and regularizaion loss."
   ]
  },
  {
   "cell_type": "code",
   "execution_count": 4,
   "metadata": {
    "collapsed": false,
    "deletable": true,
    "editable": true
   },
   "outputs": [
    {
     "name": "stdout",
     "output_type": "stream",
     "text": [
      "Difference between your loss and correct loss:\n",
      "2.54800625044e-11\n"
     ]
    }
   ],
   "source": [
    "loss, _ = net.loss(X, y, reg=0.1)\n",
    "correct_loss = 66.3406756909\n",
    "\n",
    "# should be very small, we get < 1e-10\n",
    "print 'Difference between your loss and correct loss:'\n",
    "print np.sum(np.abs(loss - correct_loss))"
   ]
  },
  {
   "cell_type": "markdown",
   "metadata": {
    "deletable": true,
    "editable": true
   },
   "source": [
    "# Backward pass\n",
    "Implement the rest of the function. This will compute the gradient of the loss with respect to the variables `W1`, `b1`, `W2`, and `b2`. Now that you (hopefully!) have a correctly implemented forward pass, you can debug your backward pass using a numeric gradient check:"
   ]
  },
  {
   "cell_type": "code",
   "execution_count": 5,
   "metadata": {
    "collapsed": false,
    "deletable": true,
    "editable": true
   },
   "outputs": [
    {
     "name": "stdout",
     "output_type": "stream",
     "text": [
      "W1 max relative error: 5.463838e-04\n",
      "W2 max relative error: 3.755046e-04\n",
      "b2 max relative error: 1.443387e-06\n",
      "b1 max relative error: 2.188996e-07\n"
     ]
    }
   ],
   "source": [
    "from cs231n.gradient_check import eval_numerical_gradient\n",
    "\n",
    "# Use numeric gradient checking to check your implementation of the backward pass.\n",
    "# If your implementation is correct, the difference between the numeric and\n",
    "# analytic gradients should be less than 1e-8 for each of W1, W2, b1, and b2.\n",
    "\n",
    "loss, grads = net.loss(X, y, reg=0.1)\n",
    "\n",
    "# these should all be less than 1e-8 or so\n",
    "for param_name in grads:\n",
    "  #this grad check is faulty, it takes parameter W but never uses it\n",
    "  f = lambda W: net.loss(X, y, reg=0.1)[0]\n",
    "  param_grad_num = eval_numerical_gradient(f, net.params[param_name])\n",
    "  print '%s max relative error: %e' % (param_name, rel_error(param_grad_num, grads[param_name]))"
   ]
  },
  {
   "cell_type": "markdown",
   "metadata": {
    "deletable": true,
    "editable": true
   },
   "source": [
    "# Load a dataset for training a simple regression network"
   ]
  },
  {
   "cell_type": "code",
   "execution_count": 38,
   "metadata": {
    "collapsed": false,
    "deletable": true,
    "editable": true
   },
   "outputs": [
    {
     "name": "stdout",
     "output_type": "stream",
     "text": [
      "Converting plain text file to trainable dataset (as pickle file)\n",
      "Processing file metu/dataset/shakespeare.txt as input\n",
      "input_size parameter (i.e. num of neurons) will be 5\n",
      "Writing data and labels to file metu/dataset/nextchar_data.pkl\n",
      "Loading X and Y from pickle file metu/dataset/nextchar_data.pkl\n",
      "Number of instances in the training set:  37647\n",
      "Number of instances in the validation set:  3764\n",
      "Number of instances in the testing set:  22589\n"
     ]
    }
   ],
   "source": [
    "# Load the TEXT data\n",
    "# If your memory turns out to be sufficient, try the following:\n",
    "#def get_nextchar_data(training_ratio=0.6, val_ratio=0.1):\n",
    "def get_nextchar_data(training_ratio=0.1, test_ratio=0.06, val_ratio=0.01):\n",
    "  # Load the nextchar training data \n",
    "  X, y = load_nextchar_dataset(nextchar_datafile)\n",
    "  # Subsample the data\n",
    "  length=len(y)\n",
    "  num_training=int(length*training_ratio)\n",
    "  num_val = int(length*val_ratio)\n",
    "  num_test = min((length-num_training-num_val), int(length*test_ratio))\n",
    "  mask = range(num_training-1)\n",
    "  X_train = X[mask]\n",
    "  y_train = y[mask]\n",
    "  mask = range(num_training, num_training+num_test)\n",
    "  X_test = X[mask]\n",
    "  y_test = y[mask]\n",
    "  mask = range(num_training+num_test, num_training+num_test+num_val)\n",
    "  X_val = X[mask]\n",
    "  y_val = y[mask]\n",
    "\n",
    "  return X_train, y_train, X_val, y_val, X_test, y_test\n",
    "\n",
    "nextchar_datafile = 'metu/dataset/nextchar_data.pkl'\n",
    "input_size = 5 # Size of the input of the network\n",
    "#plain_text_file_to_dataset(\"metu/dataset/ince_memed_1.txt\", nextchar_datafile, input_size)\n",
    "plain_text_file_to_dataset(\"metu/dataset/shakespeare.txt\", nextchar_datafile, input_size)\n",
    "X_train, y_train, X_val, y_val, X_test, y_test = get_nextchar_data()\n",
    "print \"Number of instances in the training set: \", len(X_train)\n",
    "print \"Number of instances in the validation set: \", len(X_val)\n",
    "print \"Number of instances in the testing set: \", len(X_test)"
   ]
  },
  {
   "cell_type": "code",
   "execution_count": 39,
   "metadata": {
    "collapsed": false,
    "deletable": true,
    "editable": true
   },
   "outputs": [
    {
     "name": "stdout",
     "output_type": "stream",
     "text": [
      "Input - Next char to be predicted\n",
      "HE SO - N\n",
      "E SON - N\n",
      " SONN - E\n",
      "SONNE - T\n",
      "ONNET - S\n",
      "by Wi - l\n",
      "y Wil - l\n",
      " Will - i\n",
      "Willi - a\n"
     ]
    }
   ],
   "source": [
    "# We have loaded the dataset. That wasn't difficult, was it? :)\n",
    "# Let's look at a few samples\n",
    "#\n",
    "from metu.data_utils import int_list_to_string, int_to_charstr\n",
    "\n",
    "print \"Input - Next char to be predicted\"\n",
    "for i in range(1,10):\n",
    "    print int_list_to_string(X_train[i]) + \" - \" + int_list_to_string(y_train[i])"
   ]
  },
  {
   "cell_type": "markdown",
   "metadata": {
    "deletable": true,
    "editable": true
   },
   "source": [
    "# Now train our network on the nextchar dataset"
   ]
  },
  {
   "cell_type": "code",
   "execution_count": 69,
   "metadata": {
    "collapsed": false,
    "deletable": true,
    "editable": true,
    "scrolled": false
   },
   "outputs": [
    {
     "name": "stdout",
     "output_type": "stream",
     "text": [
      "iteration 0 / 4000: loss 1191456.180242\n",
      "iteration 100 / 4000: loss 1081576.053361\n",
      "iteration 200 / 4000: loss 1055188.250408\n",
      "iteration 300 / 4000: loss 1794711.194733\n",
      "iteration 400 / 4000: loss 1103742.701109\n",
      "iteration 500 / 4000: loss 1078587.510633\n",
      "iteration 600 / 4000: loss 967011.683003\n",
      "iteration 700 / 4000: loss 928023.555608\n",
      "iteration 800 / 4000: loss 150536.350821\n",
      "iteration 900 / 4000: loss 979725.347889\n",
      "iteration 1000 / 4000: loss 917220.501422\n",
      "iteration 1100 / 4000: loss 879715.589520\n",
      "iteration 1200 / 4000: loss 640055.798165\n",
      "iteration 1300 / 4000: loss 410950.018063\n",
      "iteration 1400 / 4000: loss 244154.828708\n",
      "iteration 1500 / 4000: loss 174068.554566\n",
      "iteration 1600 / 4000: loss 146760.114685\n",
      "iteration 1700 / 4000: loss 201318.065499\n",
      "iteration 1800 / 4000: loss 234944.710857\n",
      "iteration 1900 / 4000: loss 248821.949516\n",
      "iteration 2000 / 4000: loss 274896.385148\n",
      "iteration 2100 / 4000: loss 180503.277616\n",
      "iteration 2200 / 4000: loss 140573.472614\n",
      "iteration 2300 / 4000: loss 125186.732535\n",
      "iteration 2400 / 4000: loss 135013.256934\n",
      "iteration 2500 / 4000: loss 133088.843975\n",
      "iteration 2600 / 4000: loss 115004.829533\n",
      "iteration 2700 / 4000: loss 121702.612146\n",
      "iteration 2800 / 4000: loss 116956.669486\n",
      "iteration 2900 / 4000: loss 118339.289010\n",
      "iteration 3000 / 4000: loss 126076.932913\n",
      "iteration 3100 / 4000: loss 115108.999276\n",
      "iteration 3200 / 4000: loss 104738.944757\n",
      "iteration 3300 / 4000: loss 116492.028924\n",
      "iteration 3400 / 4000: loss 117599.111209\n",
      "iteration 3500 / 4000: loss 123315.053724\n",
      "iteration 3600 / 4000: loss 115025.105726\n",
      "iteration 3700 / 4000: loss 110237.957832\n",
      "iteration 3800 / 4000: loss 120544.803414\n",
      "iteration 3900 / 4000: loss 110289.327146\n",
      "Validation error:  889.300148569\n"
     ]
    }
   ],
   "source": [
    "# Now, let's train a neural network\n",
    "\n",
    "input_size = input_size\n",
    "hidden_size = 5000\n",
    "num_classes = 1\n",
    "net = TwoLayerNet(input_size, hidden_size, num_classes)\n",
    "\n",
    "# Train the network\n",
    "stats = net.train(X_train, y_train, X_val, y_val,\n",
    "            num_iters=4000, batch_size=32*8,\n",
    "            learning_rate=6e-7, learning_rate_decay=0.95,\n",
    "            reg=5, verbose=True)\n",
    "\n",
    "# Predict on the validation set\n",
    "val_err = np.sum(np.square(net.predict(X_val) - y_val), axis=1).mean()\n",
    "print 'Validation error: ', val_err"
   ]
  },
  {
   "cell_type": "markdown",
   "metadata": {
    "deletable": true,
    "editable": true
   },
   "source": [
    "# Debug the training\n",
    "I have managed to get a loss below 10,000 and a validation error of about 1100 on the validation set (by playing around the parameters a little bit). However, this isn't very good.\n",
    "\n",
    "One strategy for getting insight into what's wrong is to plot the loss function and the accuracies on the training and validation sets during optimization."
   ]
  },
  {
   "cell_type": "code",
   "execution_count": 70,
   "metadata": {
    "collapsed": false,
    "deletable": true,
    "editable": true
   },
   "outputs": [
    {
     "data": {
      "image/png": "[encoded data removed]",
      "text/plain": [
       "<matplotlib.figure.Figure at 0x7ff105b8cb90>"
      ]
     },
     "metadata": {},
     "output_type": "display_data"
    }
   ],
   "source": [
    "# Plot the loss function and train / validation errors\n",
    "plt.subplot(2, 1, 1)\n",
    "plt.plot(stats['loss_history'])\n",
    "plt.title('Loss history')\n",
    "plt.xlabel('Iteration')\n",
    "plt.ylabel('Loss')\n",
    "\n",
    "plt.subplot(2, 1, 2)\n",
    "train = plt.plot(stats['train_err_history'], label='train')\n",
    "val = plt.plot(stats['val_err_history'], label='val')\n",
    "plt.legend(loc='upper right', shadow=True)\n",
    "plt.title('Classification error history')\n",
    "plt.xlabel('Epoch')\n",
    "plt.ylabel('Clasification error')\n",
    "plt.show()"
   ]
  },
  {
   "cell_type": "code",
   "execution_count": 71,
   "metadata": {
    "collapsed": false,
    "deletable": true,
    "editable": true
   },
   "outputs": [
    {
     "name": "stdout",
     "output_type": "stream",
     "text": [
      "Input - predicted char - true char\n",
      "d mar - U - k [ 85.40055154] [107]\n",
      " mark - H -   [ 72.76514826] [32]\n",
      "mark  - m - t [ 109.35998782] [116]\n",
      "ark t - o - h [ 111.48016155] [104]\n",
      "rk th - Y - e [ 89.63968721] [101]\n",
      "k the - V -   [ 86.02565754] [32]\n",
      " the  - [ - m [ 91.0752276] [109]\n",
      "the m - k - a [ 107.2185111] [97]\n",
      "he ma - S - n [ 83.40721927] [110]\n",
      "e man - T - n [ 84.5923037] [110]\n",
      " mann - H - e [ 72.92954276] [101]\n",
      "manne - P - r [ 80.44496459] [114]\n",
      "anner - T -   [ 84.04548832] [32]\n",
      "nner  - l - o [ 108.13145719] [111]\n",
      "ner o - h - f [ 104.99253561] [102]\n",
      "er of - X -   [ 88.65409179] [32]\n",
      "r of  - a - h [ 97.71976589] [104]\n",
      " of h - \\ - i [ 92.95936818] [105]\n",
      "of hi - ] - s [ 93.96559114] [115]\n",
      "f his - U -   [ 85.15391553] [32]\n",
      " his  - b - t [ 98.67466595] [116]\n",
      "his t - m - e [ 109.39072055] [101]\n",
      "is te - V - a [ 86.48470392] [97]\n",
      "s tea - U - c [ 85.2690927] [99]\n",
      " teac - E - h [ 69.71532766] [104]\n",
      "teach - O - i [ 79.35100975] [105]\n",
      "eachi - L - n [ 76.68521088] [110]\n",
      "achin - O - g [ 79.06850868] [103]\n",
      "ching - N - . [ 78.23706222] [46]\n",
      "      - \u001f -   [ 31.70835319] [32]\n",
      "      - \u001f -   [ 31.70835319] [32]\n",
      "      - \u001f -   [ 31.70835319] [32]\n",
      "      - \u001f -   [ 31.70835319] [32]\n",
      "      - \u001f -   [ 31.70835319] [32]\n",
      "      - \u001f -   [ 31.70835319] [32]\n",
      "      - \u001f -   [ 31.70835319] [32]\n",
      "      - \u001f -   [ 31.70835319] [32]\n",
      "      - \u001f -   [ 31.70835319] [32]\n",
      "      - \u001f -   [ 31.70835319] [32]\n",
      "      - \u001f -   [ 31.70835319] [32]\n",
      "      - \u001f -   [ 31.70835319] [32]\n",
      "      - \u001f -   [ 31.70835319] [32]\n",
      "      - \u001f -   [ 31.70835319] [32]\n",
      "      - \u001f -   [ 31.70835319] [32]\n",
      "      - \u001f -   [ 31.70835319] [32]\n",
      "      - \u001f -   [ 31.70835319] [32]\n",
      "      - \u001f -   [ 31.70835319] [32]\n",
      "      - \u001f -   [ 31.70835319] [32]\n",
      "      - \u001f -   [ 31.70835319] [32]\n",
      "      - \u001f -   [ 31.70835319] [32]\n",
      "      - \u001f -   [ 31.70835319] [32]\n",
      "      - \u001f -   [ 31.70835319] [32]\n",
      "      - \u001f -   [ 31.70835319] [32]\n",
      "      - \u001f -   [ 31.70835319] [32]\n",
      "      - \u001f -   [ 31.70835319] [32]\n",
      "      - \u001f -   [ 31.70835319] [32]\n",
      "      - \u001f -   [ 31.70835319] [32]\n",
      "      - \u001f -   [ 31.70835319] [32]\n",
      "      - \u001f -   [ 31.70835319] [32]\n",
      "      - \u001f -   [ 31.70835319] [32]\n",
      "      - \u001f -   [ 31.70835319] [32]\n",
      "      - \u001f -   [ 31.70835319] [32]\n",
      "      - \u001f -   [ 31.70835319] [32]\n",
      "      - \u001f -   [ 31.70835319] [32]\n",
      "      - \u001f -   [ 31.70835319] [32]\n",
      "      - \u001f -   [ 31.70835319] [32]\n",
      "      - \u001f -   [ 31.70835319] [32]\n",
      "      - \u001f -   [ 31.70835319] [32]\n",
      "      - \u001f -   [ 31.70835319] [32]\n",
      "      - \u001f -   [ 31.70835319] [32]\n",
      "      - \u001f - [ [ 31.70835319] [91]\n",
      "    [ - X - T [ 88.83953222] [84]\n",
      "   [T - = - h [ 61.17501642] [104]\n",
      "  [Th - H - e [ 72.03256298] [101]\n",
      " [The - C - y [ 67.46715987] [121]\n",
      "[They - X -   [ 88.92662737] [32]\n",
      "They  - k - s [ 107.80611039] [115]\n",
      "hey s - j - t [ 106.51736941] [116]\n",
      "ey st - e - a [ 101.76452849] [97]\n",
      "y sta - W - n [ 87.13906508] [110]\n",
      " stan - L - d [ 76.83803498] [100]\n",
      "stand - K -   [ 75.20904919] [32]\n",
      "tand  - g - a [ 103.95921334] [97]\n",
      "and a - ^ - s [ 94.06858898] [115]\n",
      "nd as - i - i [ 105.93919088] [105]\n",
      "d asi - Q - d [ 81.90622718] [100]\n",
      " asid - L - e [ 76.59397118] [101]\n",
      "aside - K - ] [ 75.69598036] [93]\n",
      "      - \u001f -   [ 31.70835319] [32]\n",
      "      - \u001f -   [ 31.70835319] [32]\n",
      "      - \u001f -   [ 31.70835319] [32]\n",
      "      - \u001f -   [ 31.70835319] [32]\n",
      "      - \u001f -   [ 31.70835319] [32]\n",
      "      - \u001f -   [ 31.70835319] [32]\n",
      "      - \u001f -   [ 31.70835319] [32]\n",
      "      - \u001f -   [ 31.70835319] [32]\n",
      "      - \u001f -   [ 31.70835319] [32]\n",
      "      - \u001f -   [ 31.70835319] [32]\n",
      "      - \u001f - E [ 31.70835319] [69]\n",
      "    E - C - n [ 67.19423878] [110]\n"
     ]
    }
   ],
   "source": [
    "# Show some sample outputs:\n",
    "\n",
    "print \"Input - predicted char - true char\"\n",
    "for i in range(0,100):\n",
    "    print int_list_to_string(X_val[i]) + \" - \"  \\\n",
    "        + int_list_to_string([int(x) for x in net.predict(X_val[i])]) \\\n",
    "        + \" - \" + int_list_to_string(y_val[i]), net.predict(X_val[i]), y_val[i]"
   ]
  },
  {
   "cell_type": "code",
   "execution_count": 72,
   "metadata": {
    "collapsed": false,
    "deletable": true,
    "editable": true
   },
   "outputs": [
    {
     "name": "stdout",
     "output_type": "stream",
     "text": [
      "Test error:  882.148585229\n"
     ]
    }
   ],
   "source": [
    "test_err = np.sum(np.square(net.predict(X_test) - y_test), axis=1).mean()\n",
    "print 'Test error: ', test_err"
   ]
  },
  {
   "cell_type": "code",
   "execution_count": 73,
   "metadata": {
    "collapsed": false,
    "deletable": true,
    "editable": true
   },
   "outputs": [
    {
     "name": "stdout",
     "output_type": "stream",
     "text": [
      "Input - predicted char - true char\n",
      "icio, - V -   [ 86.64584691] [32]\n",
      "cio,  - P - t [ 80.85054059] [116]\n",
      "io, t -  - o [ 127.46800472] [111]\n",
      "o, to - Y -   [ 89.47092366] [32]\n",
      ", to  - _ - y [ 95.55228754] [121]\n",
      " to y - l - o [ 108.0216727] [111]\n",
      "to yo - _ - u [ 95.42607261] [117]\n",
      "o you - \\ - . [ 92.14127123] [46]\n",
      "    G - E - o [ 69.16199273] [111]\n",
      "   Go - ^ - o [ 94.78215684] [111]\n",
      "  Goo - G - d [ 71.1739196] [100]\n",
      " Good - M -   [ 77.90440575] [32]\n",
      "Good  - c - m [ 99.50546522] [109]\n",
      "ood m - k - a [ 107.62165208] [97]\n",
      "od ma - T - s [ 84.12114393] [115]\n",
      "d mas - U - t [ 85.62294199] [116]\n",
      " mast - L - e [ 76.53121197] [101]\n",
      "maste - R - r [ 82.72998943] [114]\n",
      "aster - S - , [ 83.11836421] [44]\n",
      "ster, - \\ -   [ 92.65632527] [32]\n",
      "ter,  - U - t [ 85.3790217] [116]\n",
      "er, t -  - a [ 127.31865558] [97]\n",
      "r, ta - L - k [ 76.0484107] [107]\n",
      ", tak - R - e [ 82.72760114] [101]\n",
      " take - F -   [ 70.12091901] [32]\n",
      "take  - f - i [ 102.91304778] [105]\n",
      "ake i - e - t [ 101.37638179] [116]\n",
      "ke it - g -   [ 103.86076447] [32]\n",
      "e it  - d - n [ 100.96530802] [110]\n",
      " it n - ^ - o [ 94.80858643] [111]\n",
      "it no - b - t [ 98.54260298] [116]\n",
      "t not - X -   [ 88.79994647] [32]\n",
      " not  - g - u [ 103.29339901] [117]\n",
      "not u - o - n [ 111.47205289] [110]\n",
      "ot un - _ - k [ 95.79689901] [107]\n",
      "t unk - X - i [ 88.90347437] [105]\n",
      " unki - J - n [ 74.96251245] [110]\n",
      "unkin - Q - d [ 81.77648616] [100]\n",
      "nkind - N - l [ 78.0301768] [108]\n",
      "kindl - P - y [ 80.06690583] [121]\n",
      "indly - [ - , [ 91.84354676] [44]\n",
      "ndly, - ] -   [ 93.68304747] [32]\n",
      "dly,  - T - p [ 84.85511443] [112]\n",
      "ly, p - | - r [ 124.94814041] [114]\n",
      "y, pr - _ - a [ 95.0029954] [97]\n",
      ", pra - Q - y [ 81.38117737] [121]\n",
      " pray - S - , [ 83.96399079] [44]\n",
      "    T - Q - h [ 81.9523934] [104]\n",
      "   Th - S - a [ 83.31727448] [97]\n",
      "  Tha - F - t [ 70.74126264] [116]\n",
      " That - N -   [ 78.50454316] [32]\n",
      "That  - f - I [ 102.57894848] [73]\n",
      "hat I - B -   [ 66.45462255] [32]\n",
      "at I  - A - h [ 65.92431562] [104]\n",
      "t I h - e - a [ 101.46803107] [97]\n",
      " I ha - I - v [ 73.75047393] [118]\n",
      "I hav - S - e [ 83.1439553] [101]\n",
      " have - H -   [ 72.30093034] [32]\n",
      "have  - k - b [ 107.19073113] [98]\n",
      "ave b - _ - e [ 95.65985018] [101]\n",
      "ve be - \\ - e [ 92.85691077] [101]\n",
      "e bee - O - n [ 79.70440412] [110]\n",
      " been - I -   [ 73.85160087] [32]\n",
      "been  - f - t [ 102.86634378] [116]\n",
      "een t - m - h [ 109.83342314] [104]\n",
      "en th - X - u [ 88.43544587] [117]\n",
      "n thu - Y - s [ 89.67514335] [115]\n",
      " thus - L -   [ 76.55163405] [32]\n",
      "thus  - u - p [ 117.71816356] [112]\n",
      "hus p - j - l [ 106.7322387] [108]\n",
      "us pl - ` - e [ 96.18661244] [101]\n",
      "s ple - U - a [ 85.74374509] [97]\n",
      " plea - H - s [ 72.22622172] [115]\n",
      "pleas - Z - a [ 90.17873525] [97]\n",
      "leasa - K - n [ 75.80336101] [110]\n",
      "easan - Q - t [ 81.89595377] [116]\n",
      "asant - V -   [ 86.54700173] [32]\n",
      "sant  - q - w [ 113.49376367] [119]\n",
      "ant w - o - i [ 111.8104189] [105]\n",
      "nt wi - Z - t [ 90.05610752] [116]\n",
      "t wit - Z - h [ 90.8700468] [104]\n",
      " with - J -   [ 74.1442143] [32]\n",
      "with  - o - y [ 111.07449434] [121]\n",
      "ith y - v - o [ 118.28149526] [111]\n",
      "th yo - ^ - u [ 94.68115787] [117]\n",
      "h you - [ -   [ 91.72477675] [32]\n",
      " you  - i - b [ 105.20222698] [98]\n",
      "you b - ] - o [ 93.82309008] [111]\n",
      "ou bo - g - t [ 103.57786606] [116]\n",
      "u bot - U - h [ 85.14391827] [104]\n",
      " both - M - . [ 77.48484154] [46]\n",
      "  HOR - < - T [ 60.71378628] [84]\n",
      " HORT - < - E [ 60.88213701] [69]\n",
      "HORTE - < - N [ 60.69312094] [78]\n",
      "ORTEN - = - S [ 61.64955728] [83]\n",
      "RTENS - C - I [ 67.12797862] [73]\n",
      "TENSI - = - O [ 61.61127831] [79]\n",
      "ENSIO - = - . [ 61.72762654] [46]\n",
      "NSIO. - 8 -   [ 56.39935387] [32]\n",
      "SIO.  - < -   [ 60.10788026] [32]\n"
     ]
    }
   ],
   "source": [
    "# Show some sample outputs:\n",
    "print \"Input - predicted char - true char\"\n",
    "for i in range(0,100):\n",
    "    print int_list_to_string(X_test[i]) + \" - \"  \\\n",
    "        + int_list_to_string([int(x) for x in net.predict(X_test[i])]) \\\n",
    "        + \" - \" + int_list_to_string(y_test[i]), net.predict(X_test[i]), y_test[i]"
   ]
  },
  {
   "cell_type": "code",
   "execution_count": null,
   "metadata": {
    "collapsed": true,
    "deletable": true,
    "editable": true
   },
   "outputs": [],
   "source": []
  }
 ],
 "metadata": {
  "kernelspec": {
   "display_name": "Python 2",
   "language": "python",
   "name": "python2"
  },
  "language_info": {
   "codemirror_mode": {
    "name": "ipython",
    "version": 2
   },
   "file_extension": ".py",
   "mimetype": "text/x-python",
   "name": "python",
   "nbconvert_exporter": "python",
   "pygments_lexer": "ipython2",
   "version": "2.7.13"
  }
 },
 "nbformat": 4,
 "nbformat_minor": 0
}
