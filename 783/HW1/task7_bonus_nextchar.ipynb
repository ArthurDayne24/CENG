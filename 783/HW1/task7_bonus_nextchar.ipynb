{
 "cells": [
  {
   "cell_type": "code",
   "execution_count": 1,
   "metadata": {
    "collapsed": true,
    "deletable": true,
    "editable": true
   },
   "outputs": [],
   "source": [
    "import random\n",
    "import numpy as np\n",
    "from metu.data_utils import load_nextchar_dataset, plain_text_file_to_dataset\n",
    "import matplotlib.pyplot as plt\n",
    "%matplotlib inline\n",
    "plt.rcParams['figure.figsize'] = (10.0, 8.0) # set default size of plots\n",
    "plt.rcParams['image.interpolation'] = 'nearest'\n",
    "plt.rcParams['image.cmap'] = 'gray'\n",
    "\n",
    "# for auto-reloading extenrnal modules\n",
    "# see http://stackoverflow.com/questions/1907993/autoreload-of-modules-in-ipython\n",
    "%load_ext autoreload\n",
    "%autoreload 2\n",
    "\n",
    "def rel_error(x, y):\n",
    "  \"\"\" returns relative error \"\"\"\n",
    "  return np.max(np.abs(x - y) / (np.maximum(1e-8, np.abs(x) + np.abs(y))))"
   ]
  },
  {
   "cell_type": "code",
   "execution_count": 2,
   "metadata": {
    "collapsed": false,
    "deletable": true,
    "editable": true
   },
   "outputs": [],
   "source": [
    "# Create a small net and some toy data to check your implementations.\n",
    "# Note that we set the random seed for repeatable experiments.\n",
    "from cs231n.classifiers.mneural_net_for_regression import NLayerNet\n",
    "\n",
    "input_size = 4\n",
    "hidden_size = 10\n",
    "num_classes = 3\n",
    "num_inputs = 5\n",
    "sizes = [input_size+1, 11, num_classes]\n",
    "\n",
    "def init_toy_model():\n",
    "  np.random.seed(0)\n",
    "  return NLayerNet(sizes, std=1e-1)\n",
    "\n",
    "def init_toy_data():\n",
    "  np.random.seed(1)\n",
    "  X = 10 * np.random.randn(num_inputs, input_size+1)\n",
    "  X[:,input_size] = 1\n",
    "  y = np.array([[0, 1, 2], [1, 2, 3], [2, 3, 4], [2, 1, 4], [2, 1, 4]])\n",
    "  return X, y\n",
    "\n",
    "net = init_toy_model()\n",
    "X, y = init_toy_data()"
   ]
  },
  {
   "cell_type": "code",
   "execution_count": 3,
   "metadata": {
    "collapsed": false,
    "deletable": true,
    "editable": true
   },
   "outputs": [
    {
     "name": "stdout",
     "output_type": "stream",
     "text": [
      "Your scores:\n",
      "[[ 0.2542827  -1.0276132   0.22463379]\n",
      " [ 0.30083018  0.03165373  0.49757504]\n",
      " [ 0.23566155 -1.43767861  0.60140783]\n",
      " [ 0.06658625  0.00252092  0.11141789]\n",
      " [ 0.01875262 -0.14184773  0.02989631]]\n",
      "\n"
     ]
    }
   ],
   "source": [
    "scores = net.loss(X)\n",
    "print 'Your scores:'\n",
    "print scores\n",
    "print"
   ]
  },
  {
   "cell_type": "code",
   "execution_count": 4,
   "metadata": {
    "collapsed": false,
    "deletable": true,
    "editable": true
   },
   "outputs": [
    {
     "name": "stdout",
     "output_type": "stream",
     "text": [
      "46.6173034791\n"
     ]
    }
   ],
   "source": [
    "loss, _ = net.loss(X, y, reg=0.1)\n",
    "print loss"
   ]
  },
  {
   "cell_type": "code",
   "execution_count": 5,
   "metadata": {
    "collapsed": false,
    "deletable": true,
    "editable": true
   },
   "outputs": [
    {
     "name": "stdout",
     "output_type": "stream",
     "text": [
      "Converting plain text file to trainable dataset (as pickle file)\n",
      "Processing file metu/dataset/shakespeare.txt as input\n",
      "input_size parameter (i.e. num of neurons) will be 5\n",
      "Writing data and labels to file metu/dataset/nextchar_data.pkl\n",
      "Loading X and Y from pickle file metu/dataset/nextchar_data.pkl\n",
      "Number of instances in the training set:  37647\n",
      "Number of instances in the validation set:  3764\n",
      "Number of instances in the testing set:  22589\n"
     ]
    }
   ],
   "source": [
    "# Load the TEXT data\n",
    "# If your memory turns out to be sufficient, try the following:\n",
    "#def get_nextchar_data(training_ratio=0.6, val_ratio=0.1):\n",
    "def get_nextchar_data(training_ratio=0.1, test_ratio=0.06, val_ratio=0.01):\n",
    "  # Load the nextchar training data \n",
    "  X, y = load_nextchar_dataset(nextchar_datafile)\n",
    "  # Subsample the data\n",
    "  length=len(y)\n",
    "  num_training=int(length*training_ratio)\n",
    "  num_val = int(length*val_ratio)\n",
    "  num_test = min((length-num_training-num_val), int(length*test_ratio))\n",
    "  mask = range(num_training-1)\n",
    "  X_train = X[mask]\n",
    "  y_train = y[mask]\n",
    "  mask = range(num_training, num_training+num_test)\n",
    "  X_test = X[mask]\n",
    "  y_test = y[mask]\n",
    "  mask = range(num_training+num_test, num_training+num_test+num_val)\n",
    "  X_val = X[mask]\n",
    "  y_val = y[mask]\n",
    "\n",
    "  return X_train, y_train, X_val, y_val, X_test, y_test\n",
    "\n",
    "nextchar_datafile = 'metu/dataset/nextchar_data.pkl'\n",
    "input_size = 5 # Size of the input of the network\n",
    "#plain_text_file_to_dataset(\"metu/dataset/ince_memed_1.txt\", nextchar_datafile, input_size)\n",
    "plain_text_file_to_dataset(\"metu/dataset/shakespeare.txt\", nextchar_datafile, input_size)\n",
    "X_train, y_train, X_val, y_val, X_test, y_test = get_nextchar_data()\n",
    "#convert labels\n",
    "#y_train = np.c_[X_train[:,1:], y_train].astype(int)\n",
    "#y_val = np.c_[X_val[:,1:], y_val].astype(int)\n",
    "#y_test = np.c_[X_test[:,1:], y_test].astype(int)\n",
    "#add bias columns\n",
    "X_train = np.c_[X_train, np.ones(X_train.shape[0])].astype(int)\n",
    "X_val = np.c_[X_val, np.ones(X_val.shape[0])].astype(int)\n",
    "X_test = np.c_[X_test, np.ones(X_test.shape[0])].astype(int)\n",
    "print \"Number of instances in the training set: \", len(X_train)\n",
    "print \"Number of instances in the validation set: \", len(X_val)\n",
    "print \"Number of instances in the testing set: \", len(X_test)"
   ]
  },
  {
   "cell_type": "code",
   "execution_count": 6,
   "metadata": {
    "collapsed": false,
    "deletable": true,
    "editable": true
   },
   "outputs": [
    {
     "name": "stdout",
     "output_type": "stream",
     "text": [
      "Input - Next char to be predicted\n",
      "HE SO\u0001 - N\n",
      "E SON\u0001 - N\n",
      " SONN\u0001 - E\n",
      "SONNE\u0001 - T\n",
      "ONNET\u0001 - S\n",
      "by Wi\u0001 - l\n",
      "y Wil\u0001 - l\n",
      " Will\u0001 - i\n",
      "Willi\u0001 - a\n"
     ]
    }
   ],
   "source": [
    "# We have loaded the dataset. That wasn't difficult, was it? :)\n",
    "# Let's look at a few samples\n",
    "#\n",
    "from metu.data_utils import int_list_to_string, int_to_charstr\n",
    "\n",
    "print \"Input - Next char to be predicted\"\n",
    "for i in range(1,10):\n",
    "    print int_list_to_string(X_train[i]) + \" - \" + int_list_to_string(y_train[i])"
   ]
  },
  {
   "cell_type": "markdown",
   "metadata": {
    "deletable": true,
    "editable": true
   },
   "source": [
    "# Approach1: Multiple layer NN\n",
    "\n",
    "**Lets try a NN with 3 Layers, instead of 2. Again we use regression with squared error loss function and ReLU activation function.**"
   ]
  },
  {
   "cell_type": "code",
   "execution_count": 7,
   "metadata": {
    "collapsed": false,
    "deletable": true,
    "editable": true
   },
   "outputs": [
    {
     "name": "stdout",
     "output_type": "stream",
     "text": [
      "iteration 0 / 5000: loss 546327.512261\n",
      "iteration 100 / 5000: loss 573085.500313\n",
      "iteration 200 / 5000: loss 522045.439926\n",
      "iteration 300 / 5000: loss 556642.340921\n",
      "iteration 400 / 5000: loss 562255.650729\n",
      "iteration 500 / 5000: loss 111373.144695\n",
      "iteration 600 / 5000: loss 156501.872581\n",
      "iteration 700 / 5000: loss 156517.125092\n",
      "iteration 800 / 5000: loss 79022.478132\n",
      "iteration 900 / 5000: loss 97902.328317\n",
      "iteration 1000 / 5000: loss 130926.662905\n",
      "iteration 1100 / 5000: loss 114998.455899\n",
      "iteration 1200 / 5000: loss 137790.050439\n",
      "iteration 1300 / 5000: loss 308434.968690\n",
      "iteration 1400 / 5000: loss 76892.223163\n",
      "iteration 1500 / 5000: loss 130901.837214\n",
      "iteration 1600 / 5000: loss 104809.187718\n",
      "iteration 1700 / 5000: loss 77751.193665\n",
      "iteration 1800 / 5000: loss 67174.459979\n",
      "iteration 1900 / 5000: loss 125493.522229\n",
      "iteration 2000 / 5000: loss 68323.243654\n",
      "iteration 2100 / 5000: loss 75575.385475\n",
      "iteration 2200 / 5000: loss 54534.012705\n",
      "iteration 2300 / 5000: loss 61936.244708\n",
      "iteration 2400 / 5000: loss 55911.102733\n",
      "iteration 2500 / 5000: loss 87709.339747\n",
      "iteration 2600 / 5000: loss 68408.642879\n",
      "iteration 2700 / 5000: loss 55533.688318\n",
      "iteration 2800 / 5000: loss 66435.602306\n",
      "iteration 2900 / 5000: loss 86045.499259\n",
      "iteration 3000 / 5000: loss 42137.233804\n",
      "iteration 3100 / 5000: loss 80518.111371\n",
      "iteration 3200 / 5000: loss 51534.657081\n",
      "iteration 3300 / 5000: loss 76831.395609\n",
      "iteration 3400 / 5000: loss 60104.165109\n",
      "iteration 3500 / 5000: loss 49344.700532\n",
      "iteration 3600 / 5000: loss 64008.061838\n",
      "iteration 3700 / 5000: loss 54877.252200\n",
      "iteration 3800 / 5000: loss 85946.347090\n",
      "iteration 3900 / 5000: loss 58580.102672\n",
      "iteration 4000 / 5000: loss 55947.004616\n",
      "iteration 4100 / 5000: loss 66603.469098\n",
      "iteration 4200 / 5000: loss 49358.597462\n",
      "iteration 4300 / 5000: loss 43542.464813\n",
      "iteration 4400 / 5000: loss 70988.472778\n",
      "iteration 4500 / 5000: loss 57211.397819\n",
      "iteration 4600 / 5000: loss 55404.671088\n",
      "iteration 4700 / 5000: loss 62171.264883\n",
      "iteration 4800 / 5000: loss 54387.264336\n",
      "iteration 4900 / 5000: loss 52721.653531\n",
      "Validation error:  888.517247725\n",
      "Test error:  882.675182086\n"
     ]
    }
   ],
   "source": [
    "# Now, let's train a neural network\n",
    "\n",
    "input_size = 5\n",
    "hidden_size = 5000\n",
    "num_classes = 1\n",
    "sizes = [input_size+1, hidden_size/100, hidden_size, num_classes]\n",
    "net = NLayerNet(sizes)\n",
    "\n",
    "# Train the network\n",
    "stats = net.train(X_train, y_train, X_val, y_val,\n",
    "            num_iters=5000, batch_size=32*4,\n",
    "            learning_rate=6e-7, learning_rate_decay=0.97,\n",
    "            reg=10, verbose=True)\n",
    "\n",
    "# Predict on the validation set\n",
    "val_err = np.sum(np.square(net.predict(X_val) - y_val), axis=1).mean()\n",
    "print 'Validation error: ', val_err\n",
    "test_err = np.sum(np.square(net.predict(X_test) - y_test), axis=1).mean()\n",
    "print 'Test error: ', test_err"
   ]
  },
  {
   "cell_type": "code",
   "execution_count": 8,
   "metadata": {
    "collapsed": false,
    "deletable": true,
    "editable": true
   },
   "outputs": [
    {
     "data": {
      "image/png": "[encoded data removed]",
      "text/plain": [
       "<matplotlib.figure.Figure at 0x7f8eb3223890>"
      ]
     },
     "metadata": {},
     "output_type": "display_data"
    }
   ],
   "source": [
    "# Plot the loss function and train / validation errors\n",
    "plt.subplot(2, 1, 1)\n",
    "plt.plot(stats['loss_history'])\n",
    "plt.title('Loss history')\n",
    "plt.xlabel('Iteration')\n",
    "plt.ylabel('Loss')\n",
    "\n",
    "plt.subplot(2, 1, 2)\n",
    "train = plt.plot(stats['train_err_history'], label='train')\n",
    "val = plt.plot(stats['val_err_history'], label='val')\n",
    "plt.legend(loc='upper right', shadow=True)\n",
    "plt.title('Classification error history')\n",
    "plt.xlabel('Epoch')\n",
    "plt.ylabel('Clasification error')\n",
    "plt.show()"
   ]
  },
  {
   "cell_type": "markdown",
   "metadata": {
    "collapsed": false,
    "deletable": true,
    "editable": true
   },
   "source": [
    "**It seems like we are hitting a local minima which is too narrow and steep, I've come up with that conclusion by trying different learning rates, architectures, regularization strengths and batch sizes and that optima has been missed in most of them, which failed to converge to any better parameter set than our original guess.**"
   ]
  },
  {
   "cell_type": "markdown",
   "metadata": {
    "collapsed": false,
    "deletable": true,
    "editable": true
   },
   "source": [
    "# Approach2: Multiple Outputs sort of AutoEncoding\n",
    "\n",
    "We will try to change our outputs from just one character to previous characters and the character to be predicted, with that approach I try to achieve more overfitting on the data, which I believe is necessary if we think about how we can predict the next character given previous characters, by memoization."
   ]
  },
  {
   "cell_type": "code",
   "execution_count": null,
   "metadata": {
    "collapsed": false,
    "deletable": true,
    "editable": true
   },
   "outputs": [
    {
     "name": "stdout",
     "output_type": "stream",
     "text": [
      "Converting plain text file to trainable dataset (as pickle file)\n",
      "Processing file metu/dataset/shakespeare.txt as input\n",
      "input_size parameter (i.e. num of neurons) will be 5\n",
      "Writing data and labels to file metu/dataset/nextchar_data.pkl\n",
      "Loading X and Y from pickle file metu/dataset/nextchar_data.pkl\n",
      "Number of instances in the training set:  37647\n",
      "Number of instances in the validation set:  3764\n",
      "Number of instances in the testing set:  22589\n",
      "Input - Next char to be predicted\n",
      "HE SO\u0001 - HE SON\n",
      "E SON\u0001 - E SONN\n",
      " SONN\u0001 -  SONNE\n",
      "SONNE\u0001 - SONNET\n",
      "ONNET\u0001 - ONNETS\n",
      "by Wi\u0001 - by Wil\n",
      "y Wil\u0001 - y Will\n",
      " Will\u0001 -  Willi\n",
      "Willi\u0001 - Willia\n"
     ]
    }
   ],
   "source": [
    "# Load the TEXT data\n",
    "# If your memory turns out to be sufficient, try the following:\n",
    "#def get_nextchar_data(training_ratio=0.6, val_ratio=0.1):\n",
    "def get_nextchar_data(training_ratio=0.1, test_ratio=0.06, val_ratio=0.01):\n",
    "  # Load the nextchar training data \n",
    "  X, y = load_nextchar_dataset(nextchar_datafile)\n",
    "  # Subsample the data\n",
    "  length=len(y)\n",
    "  num_training=int(length*training_ratio)\n",
    "  num_val = int(length*val_ratio)\n",
    "  num_test = min((length-num_training-num_val), int(length*test_ratio))\n",
    "  mask = range(num_training-1)\n",
    "  X_train = X[mask]\n",
    "  y_train = y[mask]\n",
    "  mask = range(num_training, num_training+num_test)\n",
    "  X_test = X[mask]\n",
    "  y_test = y[mask]\n",
    "  mask = range(num_training+num_test, num_training+num_test+num_val)\n",
    "  X_val = X[mask]\n",
    "  y_val = y[mask]\n",
    "\n",
    "  return X_train, y_train, X_val, y_val, X_test, y_test\n",
    "\n",
    "nextchar_datafile = 'metu/dataset/nextchar_data.pkl'\n",
    "input_size = 5 # Size of the input of the network\n",
    "#plain_text_file_to_dataset(\"metu/dataset/ince_memed_1.txt\", nextchar_datafile, input_size)\n",
    "plain_text_file_to_dataset(\"metu/dataset/shakespeare.txt\", nextchar_datafile, input_size)\n",
    "X_train, y_train, X_val, y_val, X_test, y_test = get_nextchar_data()\n",
    "#convert labels\n",
    "y_train = np.c_[X_train, y_train].astype(int)\n",
    "y_val = np.c_[X_val, y_val].astype(int)\n",
    "y_test = np.c_[X_test, y_test].astype(int)\n",
    "#add bias columns\n",
    "X_train = np.c_[X_train, np.ones(X_train.shape[0])].astype(int)\n",
    "X_val = np.c_[X_val, np.ones(X_val.shape[0])].astype(int)\n",
    "X_test = np.c_[X_test, np.ones(X_test.shape[0])].astype(int)\n",
    "print \"Number of instances in the training set: \", len(X_train)\n",
    "print \"Number of instances in the validation set: \", len(X_val)\n",
    "print \"Number of instances in the testing set: \", len(X_test)\n",
    "\n",
    "# We have loaded the dataset. That wasn't difficult, was it? :)\n",
    "# Let's look at a few samples\n",
    "#\n",
    "from metu.data_utils import int_list_to_string, int_to_charstr\n",
    "\n",
    "print \"Input - Next char to be predicted\"\n",
    "for i in range(1,10):\n",
    "    print int_list_to_string(X_train[i]) + \" - \" + int_list_to_string(y_train[i])"
   ]
  },
  {
   "cell_type": "code",
   "execution_count": null,
   "metadata": {
    "collapsed": false,
    "deletable": true,
    "editable": true
   },
   "outputs": [
    {
     "name": "stdout",
     "output_type": "stream",
     "text": [
      "iteration 0 / 5000: loss 3301756.191907\n",
      "iteration 100 / 5000: loss 326611.027787\n",
      "iteration 200 / 5000: loss 320809.001859\n",
      "iteration 300 / 5000: loss 316499.097281\n",
      "iteration 400 / 5000: loss 216331.832803\n",
      "iteration 500 / 5000: loss 101451.215236\n",
      "iteration 600 / 5000: loss 77302.801496\n",
      "iteration 700 / 5000: loss 61129.652823\n",
      "iteration 800 / 5000: loss 55360.018588\n",
      "iteration 900 / 5000: loss 78437.685268\n",
      "iteration 1000 / 5000: loss 58824.696374\n",
      "iteration 1100 / 5000: loss 86419.959656\n",
      "iteration 1200 / 5000: loss 69445.722477\n",
      "iteration 1300 / 5000: loss 68594.385637\n",
      "iteration 1400 / 5000: loss 73964.115612\n",
      "iteration 1500 / 5000: loss 76266.416919\n",
      "iteration 1600 / 5000: loss 73223.146107\n",
      "iteration 1700 / 5000: loss 63339.170481\n",
      "iteration 1800 / 5000: loss 79084.032226\n",
      "iteration 1900 / 5000: loss 60299.288425\n",
      "iteration 2000 / 5000: loss 56619.982832\n",
      "iteration 2100 / 5000: loss 60710.565325\n",
      "iteration 2200 / 5000: loss 52916.961290\n",
      "iteration 2300 / 5000: loss 50190.181371\n",
      "iteration 2400 / 5000: loss 57962.333621\n",
      "iteration 2500 / 5000: loss 54517.938108\n",
      "iteration 2600 / 5000: loss 60240.466414\n",
      "iteration 2700 / 5000: loss 59988.317036\n",
      "iteration 2800 / 5000: loss 61355.180958\n",
      "iteration 2900 / 5000: loss 68573.695191\n",
      "iteration 3000 / 5000: loss 48822.664842\n",
      "iteration 3100 / 5000: loss 46080.981788\n",
      "iteration 3200 / 5000: loss 51952.112566\n",
      "iteration 3300 / 5000: loss 57268.605413\n",
      "iteration 3400 / 5000: loss 50084.344302\n",
      "iteration 3500 / 5000: loss 50092.800192\n",
      "iteration 3600 / 5000: loss 49803.255013\n",
      "iteration 3700 / 5000: loss 51082.899708\n",
      "iteration 3800 / 5000: loss 55326.139002\n",
      "iteration 3900 / 5000: loss 55358.129377\n",
      "iteration 4000 / 5000: loss 50179.132979\n",
      "iteration 4100 / 5000: loss 53200.135027\n",
      "iteration 4200 / 5000: loss 55350.359891\n",
      "iteration 4300 / 5000: loss 51674.894850\n",
      "iteration 4400 / 5000: loss 56600.163476\n",
      "iteration 4500 / 5000: loss 61651.268346\n",
      "iteration 4600 / 5000: loss 71745.080690\n"
     ]
    }
   ],
   "source": [
    "# Now, let's train a neural network\n",
    "\n",
    "input_size = 5\n",
    "hidden_size = 7000\n",
    "num_classes = 6 #this time we try to keep 5 input characters also\n",
    "sizes = [input_size+1, hidden_size, num_classes]\n",
    "net = NLayerNet(sizes)\n",
    "\n",
    "# Train the network\n",
    "stats = net.train(X_train, y_train, X_val, y_val,\n",
    "            num_iters=5000, batch_size=32*4,\n",
    "            learning_rate=.1e-6, learning_rate_decay=0.95,\n",
    "            reg=5, verbose=True)\n",
    "\n",
    "# Predict on the validation set\n",
    "val_err = np.sum(np.square(net.predict(X_val) - y_val), axis=1).mean()\n",
    "print 'Validation error: ', val_err\n",
    "test_err = np.sum(np.square(net.predict(X_test) - y_test), axis=1).mean()\n",
    "print 'Test error: ', test_err\n",
    "\n",
    "# Plot the loss function and train / validation errors\n",
    "plt.subplot(2, 1, 1)\n",
    "plt.plot(stats['loss_history'])\n",
    "plt.title('Loss history')\n",
    "plt.xlabel('Iteration')\n",
    "plt.ylabel('Loss')\n",
    "\n",
    "plt.subplot(2, 1, 2)\n",
    "train = plt.plot(stats['train_err_history'], label='train')\n",
    "val = plt.plot(stats['val_err_history'], label='val')\n",
    "plt.legend(loc='upper right', shadow=True)\n",
    "plt.title('Classification error history')\n",
    "plt.xlabel('Epoch')\n",
    "plt.ylabel('Clasification error')\n",
    "plt.show()"
   ]
  },
  {
   "cell_type": "code",
   "execution_count": null,
   "metadata": {
    "collapsed": false,
    "deletable": true,
    "editable": true
   },
   "outputs": [],
   "source": [
    "# Show some sample outputs:\n",
    "print \"Input - predicted chars - true chars\"\n",
    "for i in range(0,100):\n",
    "    print int_list_to_string(X_test[i]) + \" - \"  \\\n",
    "        + int_list_to_string([int(x) for x in net.predict(X_test[i])]) \\\n",
    "        + \" - \" + int_list_to_string(y_test[i])"
   ]
  },
  {
   "cell_type": "markdown",
   "metadata": {
    "deletable": true,
    "editable": true
   },
   "source": [
    "**It seems like we again hit a local minima, but this time minima is wider than the previous case, we can come around to that minima with various hyperparameters, but can't seem to get on a better minima than approach 1, since in that approach we had around 900 mean error per data, this time we have about 9000 assuming the first 5 outputs are given in the input; our previous algorithm definitely have performed a lot better.**"
   ]
  },
  {
   "cell_type": "markdown",
   "metadata": {
    "deletable": true,
    "editable": true
   },
   "source": [
    "# Approach 3: Let's give a shot to logistic regression, with 256 output classes."
   ]
  },
  {
   "cell_type": "code",
   "execution_count": 2,
   "metadata": {
    "collapsed": false,
    "deletable": true,
    "editable": true
   },
   "outputs": [
    {
     "name": "stdout",
     "output_type": "stream",
     "text": [
      "Converting plain text file to trainable dataset (as pickle file)\n",
      "Processing file metu/dataset/shakespeare.txt as input\n",
      "input_size parameter (i.e. num of neurons) will be 5\n",
      "Writing data and labels to file metu/dataset/nextchar_data.pkl\n",
      "Loading X and Y from pickle file metu/dataset/nextchar_data.pkl\n",
      "Number of instances in the training set:  37647\n",
      "Number of instances in the validation set:  3764\n",
      "Number of instances in the testing set:  3764\n",
      "Input - Next char to be predicted\n",
      "HE SO\u0001 - N\n",
      "E SON\u0001 - N\n",
      " SONN\u0001 - E\n",
      "SONNE\u0001 - T\n",
      "ONNET\u0001 - S\n",
      "by Wi\u0001 - l\n",
      "y Wil\u0001 - l\n",
      " Will\u0001 - i\n",
      "Willi\u0001 - a\n"
     ]
    }
   ],
   "source": [
    "# Load the TEXT data\n",
    "# If your memory turns out to be sufficient, try the following:\n",
    "#def get_nextchar_data(training_ratio=0.6, val_ratio=0.1):\n",
    "def get_nextchar_data(training_ratio=0.1, test_ratio=0.01, val_ratio=0.01):\n",
    "  # Load the nextchar training data \n",
    "  X, y = load_nextchar_dataset(nextchar_datafile)\n",
    "  # Subsample the data\n",
    "  length=len(y)\n",
    "  num_training=int(length*training_ratio)\n",
    "  num_val = int(length*val_ratio)\n",
    "  num_test = min((length-num_training-num_val), int(length*test_ratio))\n",
    "  mask = range(num_training-1)\n",
    "  X_train = X[mask]\n",
    "  y_train = y[mask]\n",
    "  mask = range(num_training, num_training+num_test)\n",
    "  X_test = X[mask]\n",
    "  y_test = y[mask]\n",
    "  mask = range(num_training+num_test, num_training+num_test+num_val)\n",
    "  X_val = X[mask]\n",
    "  y_val = y[mask]\n",
    "\n",
    "  return X_train, y_train, X_val, y_val, X_test, y_test\n",
    "\n",
    "nextchar_datafile = 'metu/dataset/nextchar_data.pkl'\n",
    "input_size = 5 # Size of the input of the network\n",
    "#plain_text_file_to_dataset(\"metu/dataset/ince_memed_1.txt\", nextchar_datafile, input_size)\n",
    "plain_text_file_to_dataset(\"metu/dataset/shakespeare.txt\", nextchar_datafile, input_size)\n",
    "X_train, y_train, X_val, y_val, X_test, y_test = get_nextchar_data()\n",
    "\n",
    "#add bias columns\n",
    "X_train = np.c_[X_train, np.ones(X_train.shape[0])].astype(int)\n",
    "X_val = np.c_[X_val, np.ones(X_val.shape[0])].astype(int)\n",
    "X_test = np.c_[X_test, np.ones(X_test.shape[0])].astype(int)\n",
    "print \"Number of instances in the training set: \", len(X_train)\n",
    "print \"Number of instances in the validation set: \", len(X_val)\n",
    "print \"Number of instances in the testing set: \", len(X_test)\n",
    "\n",
    "# We have loaded the dataset. That wasn't difficult, was it? :)\n",
    "# Let's look at a few samples\n",
    "#\n",
    "from metu.data_utils import int_list_to_string, int_to_charstr\n",
    "\n",
    "print \"Input - Next char to be predicted\"\n",
    "for i in range(1,10):\n",
    "    print int_list_to_string(X_train[i]) + \" - \" + int_list_to_string(y_train[i])"
   ]
  },
  {
   "cell_type": "code",
   "execution_count": 22,
   "metadata": {
    "collapsed": false,
    "deletable": true,
    "editable": true
   },
   "outputs": [
    {
     "name": "stdout",
     "output_type": "stream",
     "text": [
      "iteration 0 / 5000: loss 155.466985\n",
      "iteration 100 / 5000: loss 154.551050\n",
      "iteration 200 / 5000: loss 153.855460\n",
      "iteration 300 / 5000: loss 153.209756\n",
      "iteration 400 / 5000: loss 152.837628\n",
      "iteration 500 / 5000: loss 152.130104\n",
      "iteration 600 / 5000: loss 151.154332\n",
      "iteration 700 / 5000: loss 150.993925\n",
      "iteration 800 / 5000: loss 149.598826\n",
      "iteration 900 / 5000: loss 148.870756\n",
      "iteration 1000 / 5000: loss 149.532609\n",
      "iteration 1100 / 5000: loss 148.811503\n",
      "iteration 1200 / 5000: loss 146.623917\n",
      "iteration 1300 / 5000: loss 147.707100\n",
      "iteration 1400 / 5000: loss 145.016521\n",
      "iteration 1500 / 5000: loss 145.637040\n",
      "iteration 1600 / 5000: loss 145.849119\n",
      "iteration 1700 / 5000: loss 142.781651\n",
      "iteration 1800 / 5000: loss 144.463534\n",
      "iteration 1900 / 5000: loss 145.072257\n",
      "iteration 2000 / 5000: loss 142.883538\n",
      "iteration 2100 / 5000: loss 141.806593\n",
      "iteration 2200 / 5000: loss 143.801619\n",
      "iteration 2300 / 5000: loss 141.487866\n",
      "iteration 2400 / 5000: loss 140.648698\n",
      "iteration 2500 / 5000: loss 142.397922\n",
      "iteration 2600 / 5000: loss 138.437285\n",
      "iteration 2700 / 5000: loss 140.073330\n",
      "iteration 2800 / 5000: loss 139.417337\n",
      "iteration 2900 / 5000: loss 138.546906\n",
      "iteration 3000 / 5000: loss 139.256621\n",
      "iteration 3100 / 5000: loss 134.362589\n",
      "iteration 3200 / 5000: loss 137.483220\n",
      "iteration 3300 / 5000: loss 138.551987\n",
      "iteration 3400 / 5000: loss 134.254682\n",
      "iteration 3500 / 5000: loss 132.488163\n",
      "iteration 3600 / 5000: loss 135.283672\n",
      "iteration 3700 / 5000: loss 133.795582\n",
      "iteration 3800 / 5000: loss 132.286622\n",
      "iteration 3900 / 5000: loss 131.212853\n",
      "iteration 4000 / 5000: loss 131.033653\n",
      "iteration 4100 / 5000: loss 134.245185\n",
      "iteration 4200 / 5000: loss 132.175214\n",
      "iteration 4300 / 5000: loss 128.233329\n",
      "iteration 4400 / 5000: loss 131.677258\n",
      "iteration 4500 / 5000: loss 129.222665\n",
      "iteration 4600 / 5000: loss 128.729595\n",
      "iteration 4700 / 5000: loss 129.113820\n",
      "iteration 4800 / 5000: loss 127.983170\n",
      "iteration 4900 / 5000: loss 131.428908\n",
      "Validation error:  15680725.0\n",
      "Test error:  15068736.0\n"
     ]
    },
    {
     "data": {
      "image/png": "[encoded data removed]",
      "text/plain": [
       "<matplotlib.figure.Figure at 0x7f69f4e8d910>"
      ]
     },
     "metadata": {},
     "output_type": "display_data"
    }
   ],
   "source": [
    "# Now, let's train a neural network\n",
    "from cs231n.classifiers.neural_net import TwoLayerNet\n",
    "\n",
    "input_size = 6\n",
    "hidden_size = 300\n",
    "num_classes = 128\n",
    "net = TwoLayerNet(input_size, hidden_size, num_classes)\n",
    "\n",
    "# Train the network\n",
    "stats = net.train(X_train, y_train, X_val, y_val,\n",
    "            num_iters=5000, batch_size=32,\n",
    "            learning_rate=3.8e-4, learning_rate_decay=0.95,\n",
    "            reg=1e3, verbose=True)\n",
    "\n",
    "# Predict on the validation set\n",
    "val_err = np.sum(np.square(net.predict(X_val) - y_val), axis=1).mean()\n",
    "print 'Validation error: ', val_err\n",
    "test_err = np.sum(np.square(net.predict(X_test) - y_test), axis=1).mean()\n",
    "print 'Test error: ', test_err\n",
    "\n",
    "# Plot the loss function and train / validation errors\n",
    "plt.subplot(2, 1, 1)\n",
    "plt.plot(stats['loss_history'])\n",
    "plt.title('Loss history')\n",
    "plt.xlabel('Iteration')\n",
    "plt.ylabel('Loss')\n",
    "\n",
    "plt.subplot(2, 1, 2)\n",
    "train = plt.plot(stats['train_acc_history'], label='train')\n",
    "val = plt.plot(stats['val_acc_history'], label='val')\n",
    "plt.legend(loc='upper right', shadow=True)\n",
    "plt.title('Classification accuracy history')\n",
    "plt.xlabel('Epoch')\n",
    "plt.ylabel('Clasification accuracy')\n",
    "plt.show()"
   ]
  },
  {
   "cell_type": "code",
   "execution_count": 23,
   "metadata": {
    "collapsed": false,
    "deletable": true,
    "editable": true
   },
   "outputs": [
    {
     "name": "stdout",
     "output_type": "stream",
     "text": [
      "Input - predicted chars - true chars\n",
      "icio,\u0001 -   -  \n",
      "cio, \u0001 -   - t\n",
      "io, t\u0001 -   - o\n",
      "o, to\u0001 -   -  \n",
      ", to \u0001 -   - y\n",
      " to y\u0001 -   - o\n",
      "to yo\u0001 -   - u\n",
      "o you\u0001 -   - .\n",
      "    G\u0001 -   - o\n",
      "   Go\u0001 -   - o\n",
      "  Goo\u0001 -   - d\n",
      " Good\u0001 -   -  \n",
      "Good \u0001 -   - m\n",
      "ood m\u0001 -   - a\n",
      "od ma\u0001 -   - s\n",
      "d mas\u0001 -   - t\n",
      " mast\u0001 -   - e\n",
      "maste\u0001 -   - r\n",
      "aster\u0001 -   - ,\n",
      "ster,\u0001 -   -  \n"
     ]
    }
   ],
   "source": [
    "# Show some sample outputs:\n",
    "print \"Input - predicted chars - true chars\"\n",
    "X_print = X_test[:100]\n",
    "res = net.predict(X_print)\n",
    "for i in range(0,20):\n",
    "    print int_list_to_string(X_print[i]) + \" - \"  \\\n",
    "        + int_list_to_string([res[i]]) \\\n",
    "        + \" - \" + int_list_to_string(y_test[i])"
   ]
  },
  {
   "cell_type": "markdown",
   "metadata": {},
   "source": [
    "**It seems like this approach didn't work at all**"
   ]
  }
 ],
 "metadata": {
  "kernelspec": {
   "display_name": "Python 2",
   "language": "python",
   "name": "python2"
  },
  "language_info": {
   "codemirror_mode": {
    "name": "ipython",
    "version": 2
   },
   "file_extension": ".py",
   "mimetype": "text/x-python",
   "name": "python",
   "nbconvert_exporter": "python",
   "pygments_lexer": "ipython2",
   "version": "2.7.13"
  }
 },
 "nbformat": 4,
 "nbformat_minor": 2
}
